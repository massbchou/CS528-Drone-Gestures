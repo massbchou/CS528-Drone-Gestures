{
 "cells": [
  {
   "cell_type": "code",
   "execution_count": 1,
   "metadata": {},
   "outputs": [],
   "source": [
    "import torch\n",
    "import torch.nn as nn\n",
    "from torch.utils.data import DataLoader, ConcatDataset\n",
    "from MotionDataset import MotionData\n",
    "import matplotlib.pyplot as plt\n",
    "from sklearn.metrics import confusion_matrix\n",
    "from tqdm import tqdm\n",
    "import pandas as pd\n",
    "import numpy as np\n",
    "import seaborn as sns"
   ]
  },
  {
   "cell_type": "code",
   "execution_count": 2,
   "metadata": {},
   "outputs": [
    {
     "name": "stdout",
     "output_type": "stream",
     "text": [
      "cuda\n"
     ]
    }
   ],
   "source": [
    "if torch.cuda.is_available():\n",
    "    device = torch.device('cuda')\n",
    "    print(\"cuda\")\n",
    "else:\n",
    "    device = torch.device('cpu')\n",
    "    print(\"CPU\")"
   ]
  },
  {
   "cell_type": "markdown",
   "metadata": {},
   "source": [
    "## Finetuning previous model with new data"
   ]
  },
  {
   "cell_type": "code",
   "execution_count": 21,
   "metadata": {},
   "outputs": [],
   "source": [
    "train_labels = \"./data/labels/train.csv\"\n",
    "val_labels = \"./data/labels/val.csv\"\n",
    "new_dir = \"./bluetooth-data/\"\n",
    "\n",
    "train_data = MotionData(train_labels, new_dir)\n",
    "train_loader = DataLoader(train_data, batch_size=32, shuffle=True)\n",
    "\n",
    "val_data = MotionData(val_labels, new_dir)\n",
    "val_loader = DataLoader(val_data, batch_size=32)"
   ]
  },
  {
   "cell_type": "code",
   "execution_count": 22,
   "metadata": {},
   "outputs": [],
   "source": [
    "input_size = 6\n",
    "num_classes = 4\n",
    "num_epochs = 60\n",
    "\n",
    "model = torch.load(\"./models/CNN-L.pth\")\n",
    "criterion = nn.CrossEntropyLoss()\n",
    "optim = torch.optim.SGD(model.parameters(), lr=6e-3, momentum=0.9, weight_decay=0.0003)"
   ]
  },
  {
   "cell_type": "code",
   "execution_count": 23,
   "metadata": {},
   "outputs": [
    {
     "name": "stderr",
     "output_type": "stream",
     "text": [
      "Epoch 1 - train: 100%|██████████| 7/7 [00:00<00:00, 10.59it/s]\n"
     ]
    },
    {
     "name": "stdout",
     "output_type": "stream",
     "text": [
      "Epoch 1, train loss: 0.2356, val loss: 0.1166, TRAIN ACC: 91.919%, VAL ACC: 96.000%\n"
     ]
    },
    {
     "name": "stderr",
     "output_type": "stream",
     "text": [
      "Epoch 2 - train: 100%|██████████| 7/7 [00:00<00:00, 10.57it/s]\n"
     ]
    },
    {
     "name": "stdout",
     "output_type": "stream",
     "text": [
      "Epoch 2, train loss: 0.1005, val loss: 0.2273, TRAIN ACC: 96.970%, VAL ACC: 92.000%\n"
     ]
    },
    {
     "name": "stderr",
     "output_type": "stream",
     "text": [
      "Epoch 3 - train: 100%|██████████| 7/7 [00:00<00:00, 15.81it/s]\n"
     ]
    },
    {
     "name": "stdout",
     "output_type": "stream",
     "text": [
      "Epoch 3, train loss: 0.07748, val loss: 0.784, TRAIN ACC: 98.485%, VAL ACC: 92.000%\n"
     ]
    },
    {
     "name": "stderr",
     "output_type": "stream",
     "text": [
      "Epoch 4 - train: 100%|██████████| 7/7 [00:00<00:00, 15.43it/s]\n"
     ]
    },
    {
     "name": "stdout",
     "output_type": "stream",
     "text": [
      "Epoch 4, train loss: 0.01461, val loss: 0.9038, TRAIN ACC: 100.000%, VAL ACC: 90.000%\n"
     ]
    },
    {
     "name": "stderr",
     "output_type": "stream",
     "text": [
      "Epoch 5 - train: 100%|██████████| 7/7 [00:00<00:00,  8.30it/s]\n"
     ]
    },
    {
     "name": "stdout",
     "output_type": "stream",
     "text": [
      "Epoch 5, train loss: 0.03318, val loss: 0.2675, TRAIN ACC: 98.485%, VAL ACC: 98.000%\n"
     ]
    },
    {
     "name": "stderr",
     "output_type": "stream",
     "text": [
      "Epoch 6 - train: 100%|██████████| 7/7 [00:00<00:00,  9.44it/s]\n"
     ]
    },
    {
     "name": "stdout",
     "output_type": "stream",
     "text": [
      "Epoch 6, train loss: 0.006778, val loss: 0.1264, TRAIN ACC: 100.000%, VAL ACC: 98.000%\n"
     ]
    },
    {
     "name": "stderr",
     "output_type": "stream",
     "text": [
      "Epoch 7 - train: 100%|██████████| 7/7 [00:00<00:00,  7.97it/s]\n"
     ]
    },
    {
     "name": "stdout",
     "output_type": "stream",
     "text": [
      "Epoch 7, train loss: 0.005938, val loss: 0.03189, TRAIN ACC: 100.000%, VAL ACC: 100.000%\n"
     ]
    },
    {
     "name": "stderr",
     "output_type": "stream",
     "text": [
      "Epoch 8 - train: 100%|██████████| 7/7 [00:00<00:00, 10.96it/s]\n"
     ]
    },
    {
     "name": "stdout",
     "output_type": "stream",
     "text": [
      "Epoch 8, train loss: 0.0007764, val loss: 0.02795, TRAIN ACC: 100.000%, VAL ACC: 100.000%\n"
     ]
    },
    {
     "name": "stderr",
     "output_type": "stream",
     "text": [
      "Epoch 9 - train: 100%|██████████| 7/7 [00:00<00:00, 11.02it/s]\n"
     ]
    },
    {
     "name": "stdout",
     "output_type": "stream",
     "text": [
      "Epoch 9, train loss: 0.0008391, val loss: 0.01577, TRAIN ACC: 100.000%, VAL ACC: 100.000%\n"
     ]
    },
    {
     "name": "stderr",
     "output_type": "stream",
     "text": [
      "Epoch 10 - train: 100%|██████████| 7/7 [00:00<00:00, 10.95it/s]\n"
     ]
    },
    {
     "name": "stdout",
     "output_type": "stream",
     "text": [
      "Epoch 10, train loss: 0.0005771, val loss: 0.01189, TRAIN ACC: 100.000%, VAL ACC: 100.000%\n"
     ]
    },
    {
     "name": "stderr",
     "output_type": "stream",
     "text": [
      "Epoch 11 - train: 100%|██████████| 7/7 [00:00<00:00, 12.00it/s]\n"
     ]
    },
    {
     "name": "stdout",
     "output_type": "stream",
     "text": [
      "Epoch 11, train loss: 0.0005869, val loss: 0.009592, TRAIN ACC: 100.000%, VAL ACC: 100.000%\n"
     ]
    },
    {
     "name": "stderr",
     "output_type": "stream",
     "text": [
      "Epoch 12 - train: 100%|██████████| 7/7 [00:00<00:00, 11.04it/s]\n"
     ]
    },
    {
     "name": "stdout",
     "output_type": "stream",
     "text": [
      "Epoch 12, train loss: 0.005863, val loss: 0.02147, TRAIN ACC: 100.000%, VAL ACC: 100.000%\n"
     ]
    },
    {
     "name": "stderr",
     "output_type": "stream",
     "text": [
      "Epoch 13 - train: 100%|██████████| 7/7 [00:00<00:00, 10.06it/s]\n"
     ]
    },
    {
     "name": "stdout",
     "output_type": "stream",
     "text": [
      "Epoch 13, train loss: 0.002259, val loss: 0.1213, TRAIN ACC: 100.000%, VAL ACC: 98.000%\n"
     ]
    },
    {
     "name": "stderr",
     "output_type": "stream",
     "text": [
      "Epoch 14 - train: 100%|██████████| 7/7 [00:00<00:00, 11.65it/s]\n"
     ]
    },
    {
     "name": "stdout",
     "output_type": "stream",
     "text": [
      "Epoch 14, train loss: 0.01759, val loss: 0.003634, TRAIN ACC: 99.495%, VAL ACC: 100.000%\n"
     ]
    },
    {
     "name": "stderr",
     "output_type": "stream",
     "text": [
      "Epoch 15 - train: 100%|██████████| 7/7 [00:00<00:00, 11.23it/s]\n"
     ]
    },
    {
     "name": "stdout",
     "output_type": "stream",
     "text": [
      "Epoch 15, train loss: 0.001669, val loss: 0.0009849, TRAIN ACC: 100.000%, VAL ACC: 100.000%\n"
     ]
    },
    {
     "name": "stderr",
     "output_type": "stream",
     "text": [
      "Epoch 16 - train: 100%|██████████| 7/7 [00:00<00:00, 10.00it/s]\n"
     ]
    },
    {
     "name": "stdout",
     "output_type": "stream",
     "text": [
      "Epoch 16, train loss: 0.0004149, val loss: 0.001382, TRAIN ACC: 100.000%, VAL ACC: 100.000%\n"
     ]
    },
    {
     "name": "stderr",
     "output_type": "stream",
     "text": [
      "Epoch 17 - train: 100%|██████████| 7/7 [00:00<00:00,  7.78it/s]\n"
     ]
    },
    {
     "name": "stdout",
     "output_type": "stream",
     "text": [
      "Epoch 17, train loss: 0.002913, val loss: 0.00463, TRAIN ACC: 100.000%, VAL ACC: 100.000%\n"
     ]
    },
    {
     "name": "stderr",
     "output_type": "stream",
     "text": [
      "Epoch 18 - train: 100%|██████████| 7/7 [00:00<00:00,  9.34it/s]\n"
     ]
    },
    {
     "name": "stdout",
     "output_type": "stream",
     "text": [
      "Epoch 18, train loss: 0.01258, val loss: 0.00486, TRAIN ACC: 98.990%, VAL ACC: 100.000%\n"
     ]
    },
    {
     "name": "stderr",
     "output_type": "stream",
     "text": [
      "Epoch 19 - train: 100%|██████████| 7/7 [00:00<00:00,  7.21it/s]\n"
     ]
    },
    {
     "name": "stdout",
     "output_type": "stream",
     "text": [
      "Epoch 19, train loss: 0.0009188, val loss: 0.02941, TRAIN ACC: 100.000%, VAL ACC: 100.000%\n"
     ]
    },
    {
     "name": "stderr",
     "output_type": "stream",
     "text": [
      "Epoch 20 - train: 100%|██████████| 7/7 [00:00<00:00,  9.01it/s]\n"
     ]
    },
    {
     "name": "stdout",
     "output_type": "stream",
     "text": [
      "Epoch 20, train loss: 0.0004588, val loss: 0.05239, TRAIN ACC: 100.000%, VAL ACC: 98.000%\n"
     ]
    },
    {
     "name": "stderr",
     "output_type": "stream",
     "text": [
      "Epoch 21 - train: 100%|██████████| 7/7 [00:00<00:00,  8.22it/s]\n"
     ]
    },
    {
     "name": "stdout",
     "output_type": "stream",
     "text": [
      "Epoch 21, train loss: 0.0004114, val loss: 0.04251, TRAIN ACC: 100.000%, VAL ACC: 98.000%\n"
     ]
    },
    {
     "name": "stderr",
     "output_type": "stream",
     "text": [
      "Epoch 22 - train: 100%|██████████| 7/7 [00:00<00:00,  8.88it/s]\n"
     ]
    },
    {
     "name": "stdout",
     "output_type": "stream",
     "text": [
      "Epoch 22, train loss: 0.0008398, val loss: 0.07324, TRAIN ACC: 100.000%, VAL ACC: 98.000%\n"
     ]
    },
    {
     "name": "stderr",
     "output_type": "stream",
     "text": [
      "Epoch 23 - train: 100%|██████████| 7/7 [00:00<00:00,  7.54it/s]\n"
     ]
    },
    {
     "name": "stdout",
     "output_type": "stream",
     "text": [
      "Epoch 23, train loss: 0.0006846, val loss: 0.05381, TRAIN ACC: 100.000%, VAL ACC: 98.000%\n"
     ]
    },
    {
     "name": "stderr",
     "output_type": "stream",
     "text": [
      "Epoch 24 - train: 100%|██████████| 7/7 [00:00<00:00,  8.84it/s]\n"
     ]
    },
    {
     "name": "stdout",
     "output_type": "stream",
     "text": [
      "Epoch 24, train loss: 0.005292, val loss: 0.08596, TRAIN ACC: 99.495%, VAL ACC: 98.000%\n"
     ]
    },
    {
     "name": "stderr",
     "output_type": "stream",
     "text": [
      "Epoch 25 - train: 100%|██████████| 7/7 [00:00<00:00,  9.31it/s]\n"
     ]
    },
    {
     "name": "stdout",
     "output_type": "stream",
     "text": [
      "Epoch 25, train loss: 0.0008575, val loss: 0.12, TRAIN ACC: 100.000%, VAL ACC: 98.000%\n"
     ]
    },
    {
     "name": "stderr",
     "output_type": "stream",
     "text": [
      "Epoch 26 - train: 100%|██████████| 7/7 [00:00<00:00,  8.21it/s]\n"
     ]
    },
    {
     "name": "stdout",
     "output_type": "stream",
     "text": [
      "Epoch 26, train loss: 0.001982, val loss: 0.08173, TRAIN ACC: 100.000%, VAL ACC: 98.000%\n"
     ]
    },
    {
     "name": "stderr",
     "output_type": "stream",
     "text": [
      "Epoch 27 - train: 100%|██████████| 7/7 [00:00<00:00,  8.23it/s]\n"
     ]
    },
    {
     "name": "stdout",
     "output_type": "stream",
     "text": [
      "Epoch 27, train loss: 0.0004659, val loss: 0.06117, TRAIN ACC: 100.000%, VAL ACC: 98.000%\n"
     ]
    },
    {
     "name": "stderr",
     "output_type": "stream",
     "text": [
      "Epoch 28 - train: 100%|██████████| 7/7 [00:00<00:00,  9.74it/s]\n"
     ]
    },
    {
     "name": "stdout",
     "output_type": "stream",
     "text": [
      "Epoch 28, train loss: 0.0008177, val loss: 0.0358, TRAIN ACC: 100.000%, VAL ACC: 100.000%\n"
     ]
    },
    {
     "name": "stderr",
     "output_type": "stream",
     "text": [
      "Epoch 29 - train: 100%|██████████| 7/7 [00:00<00:00, 10.24it/s]\n"
     ]
    },
    {
     "name": "stdout",
     "output_type": "stream",
     "text": [
      "Epoch 29, train loss: 0.00103, val loss: 0.02204, TRAIN ACC: 100.000%, VAL ACC: 100.000%\n"
     ]
    },
    {
     "name": "stderr",
     "output_type": "stream",
     "text": [
      "Epoch 30 - train: 100%|██████████| 7/7 [00:00<00:00, 11.82it/s]\n"
     ]
    },
    {
     "name": "stdout",
     "output_type": "stream",
     "text": [
      "Epoch 30, train loss: 0.0002813, val loss: 0.01725, TRAIN ACC: 100.000%, VAL ACC: 100.000%\n"
     ]
    },
    {
     "name": "stderr",
     "output_type": "stream",
     "text": [
      "Epoch 31 - train: 100%|██████████| 7/7 [00:00<00:00, 12.00it/s]\n"
     ]
    },
    {
     "name": "stdout",
     "output_type": "stream",
     "text": [
      "Epoch 31, train loss: 0.0004238, val loss: 0.00777, TRAIN ACC: 100.000%, VAL ACC: 100.000%\n"
     ]
    },
    {
     "name": "stderr",
     "output_type": "stream",
     "text": [
      "Epoch 32 - train: 100%|██████████| 7/7 [00:00<00:00, 12.55it/s]\n"
     ]
    },
    {
     "name": "stdout",
     "output_type": "stream",
     "text": [
      "Epoch 32, train loss: 0.0002845, val loss: 0.007037, TRAIN ACC: 100.000%, VAL ACC: 100.000%\n"
     ]
    },
    {
     "name": "stderr",
     "output_type": "stream",
     "text": [
      "Epoch 33 - train: 100%|██████████| 7/7 [00:00<00:00,  8.06it/s]\n"
     ]
    },
    {
     "name": "stdout",
     "output_type": "stream",
     "text": [
      "Epoch 33, train loss: 0.001097, val loss: 0.006542, TRAIN ACC: 100.000%, VAL ACC: 100.000%\n"
     ]
    },
    {
     "name": "stderr",
     "output_type": "stream",
     "text": [
      "Epoch 34 - train: 100%|██████████| 7/7 [00:00<00:00,  9.82it/s]\n"
     ]
    },
    {
     "name": "stdout",
     "output_type": "stream",
     "text": [
      "Epoch 34, train loss: 0.0002437, val loss: 0.01011, TRAIN ACC: 100.000%, VAL ACC: 100.000%\n"
     ]
    },
    {
     "name": "stderr",
     "output_type": "stream",
     "text": [
      "Epoch 35 - train: 100%|██████████| 7/7 [00:00<00:00, 10.70it/s]\n"
     ]
    },
    {
     "name": "stdout",
     "output_type": "stream",
     "text": [
      "Epoch 35, train loss: 0.01033, val loss: 0.003948, TRAIN ACC: 100.000%, VAL ACC: 100.000%\n"
     ]
    },
    {
     "name": "stderr",
     "output_type": "stream",
     "text": [
      "Epoch 36 - train: 100%|██████████| 7/7 [00:00<00:00, 10.74it/s]\n"
     ]
    },
    {
     "name": "stdout",
     "output_type": "stream",
     "text": [
      "Epoch 36, train loss: 0.00182, val loss: 0.2639, TRAIN ACC: 100.000%, VAL ACC: 94.000%\n"
     ]
    },
    {
     "name": "stderr",
     "output_type": "stream",
     "text": [
      "Epoch 37 - train: 100%|██████████| 7/7 [00:00<00:00, 11.78it/s]\n"
     ]
    },
    {
     "name": "stdout",
     "output_type": "stream",
     "text": [
      "Epoch 37, train loss: 0.01962, val loss: 0.004181, TRAIN ACC: 98.990%, VAL ACC: 100.000%\n"
     ]
    },
    {
     "name": "stderr",
     "output_type": "stream",
     "text": [
      "Epoch 38 - train: 100%|██████████| 7/7 [00:00<00:00,  9.11it/s]\n"
     ]
    },
    {
     "name": "stdout",
     "output_type": "stream",
     "text": [
      "Epoch 38, train loss: 0.0005833, val loss: 0.001515, TRAIN ACC: 100.000%, VAL ACC: 100.000%\n"
     ]
    },
    {
     "name": "stderr",
     "output_type": "stream",
     "text": [
      "Epoch 39 - train: 100%|██████████| 7/7 [00:00<00:00,  7.52it/s]\n"
     ]
    },
    {
     "name": "stdout",
     "output_type": "stream",
     "text": [
      "Epoch 39, train loss: 0.002255, val loss: 0.003547, TRAIN ACC: 100.000%, VAL ACC: 100.000%\n"
     ]
    },
    {
     "name": "stderr",
     "output_type": "stream",
     "text": [
      "Epoch 40 - train: 100%|██████████| 7/7 [00:00<00:00,  8.87it/s]\n"
     ]
    },
    {
     "name": "stdout",
     "output_type": "stream",
     "text": [
      "Epoch 40, train loss: 0.002129, val loss: 0.01143, TRAIN ACC: 100.000%, VAL ACC: 100.000%\n"
     ]
    },
    {
     "name": "stderr",
     "output_type": "stream",
     "text": [
      "Epoch 41 - train: 100%|██████████| 7/7 [00:00<00:00,  9.11it/s]\n"
     ]
    },
    {
     "name": "stdout",
     "output_type": "stream",
     "text": [
      "Epoch 41, train loss: 0.0004063, val loss: 0.02752, TRAIN ACC: 100.000%, VAL ACC: 100.000%\n"
     ]
    },
    {
     "name": "stderr",
     "output_type": "stream",
     "text": [
      "Epoch 42 - train: 100%|██████████| 7/7 [00:00<00:00,  9.50it/s]\n"
     ]
    },
    {
     "name": "stdout",
     "output_type": "stream",
     "text": [
      "Epoch 42, train loss: 0.0004774, val loss: 0.03656, TRAIN ACC: 100.000%, VAL ACC: 100.000%\n"
     ]
    },
    {
     "name": "stderr",
     "output_type": "stream",
     "text": [
      "Epoch 43 - train: 100%|██████████| 7/7 [00:00<00:00, 10.87it/s]\n"
     ]
    },
    {
     "name": "stdout",
     "output_type": "stream",
     "text": [
      "Epoch 43, train loss: 0.002579, val loss: 0.04051, TRAIN ACC: 100.000%, VAL ACC: 98.000%\n"
     ]
    },
    {
     "name": "stderr",
     "output_type": "stream",
     "text": [
      "Epoch 44 - train: 100%|██████████| 7/7 [00:00<00:00, 10.97it/s]\n"
     ]
    },
    {
     "name": "stdout",
     "output_type": "stream",
     "text": [
      "Epoch 44, train loss: 0.0002413, val loss: 0.07504, TRAIN ACC: 100.000%, VAL ACC: 98.000%\n"
     ]
    },
    {
     "name": "stderr",
     "output_type": "stream",
     "text": [
      "Epoch 45 - train: 100%|██████████| 7/7 [00:00<00:00, 12.34it/s]\n"
     ]
    },
    {
     "name": "stdout",
     "output_type": "stream",
     "text": [
      "Epoch 45, train loss: 0.0002972, val loss: 0.06383, TRAIN ACC: 100.000%, VAL ACC: 98.000%\n"
     ]
    },
    {
     "name": "stderr",
     "output_type": "stream",
     "text": [
      "Epoch 46 - train: 100%|██████████| 7/7 [00:00<00:00, 12.19it/s]\n"
     ]
    },
    {
     "name": "stdout",
     "output_type": "stream",
     "text": [
      "Epoch 46, train loss: 0.001082, val loss: 0.05026, TRAIN ACC: 100.000%, VAL ACC: 98.000%\n"
     ]
    },
    {
     "name": "stderr",
     "output_type": "stream",
     "text": [
      "Epoch 47 - train: 100%|██████████| 7/7 [00:00<00:00, 11.06it/s]\n"
     ]
    },
    {
     "name": "stdout",
     "output_type": "stream",
     "text": [
      "Epoch 47, train loss: 0.0007143, val loss: 0.04197, TRAIN ACC: 100.000%, VAL ACC: 98.000%\n"
     ]
    },
    {
     "name": "stderr",
     "output_type": "stream",
     "text": [
      "Epoch 48 - train: 100%|██████████| 7/7 [00:00<00:00,  9.42it/s]\n"
     ]
    },
    {
     "name": "stdout",
     "output_type": "stream",
     "text": [
      "Epoch 48, train loss: 0.0003166, val loss: 0.03647, TRAIN ACC: 100.000%, VAL ACC: 100.000%\n"
     ]
    },
    {
     "name": "stderr",
     "output_type": "stream",
     "text": [
      "Epoch 49 - train: 100%|██████████| 7/7 [00:00<00:00,  9.11it/s]\n"
     ]
    },
    {
     "name": "stdout",
     "output_type": "stream",
     "text": [
      "Epoch 49, train loss: 0.0005646, val loss: 0.03124, TRAIN ACC: 100.000%, VAL ACC: 100.000%\n"
     ]
    },
    {
     "name": "stderr",
     "output_type": "stream",
     "text": [
      "Epoch 50 - train: 100%|██████████| 7/7 [00:00<00:00, 10.56it/s]\n"
     ]
    },
    {
     "name": "stdout",
     "output_type": "stream",
     "text": [
      "Epoch 50, train loss: 0.0002067, val loss: 0.03085, TRAIN ACC: 100.000%, VAL ACC: 100.000%\n"
     ]
    },
    {
     "name": "stderr",
     "output_type": "stream",
     "text": [
      "Epoch 51 - train: 100%|██████████| 7/7 [00:00<00:00,  8.25it/s]\n"
     ]
    },
    {
     "name": "stdout",
     "output_type": "stream",
     "text": [
      "Epoch 51, train loss: 9.876e-05, val loss: 0.02693, TRAIN ACC: 100.000%, VAL ACC: 100.000%\n"
     ]
    },
    {
     "name": "stderr",
     "output_type": "stream",
     "text": [
      "Epoch 52 - train: 100%|██████████| 7/7 [00:00<00:00,  9.54it/s]\n"
     ]
    },
    {
     "name": "stdout",
     "output_type": "stream",
     "text": [
      "Epoch 52, train loss: 0.001895, val loss: 0.0235, TRAIN ACC: 100.000%, VAL ACC: 100.000%\n"
     ]
    },
    {
     "name": "stderr",
     "output_type": "stream",
     "text": [
      "Epoch 53 - train: 100%|██████████| 7/7 [00:00<00:00, 11.26it/s]\n"
     ]
    },
    {
     "name": "stdout",
     "output_type": "stream",
     "text": [
      "Epoch 53, train loss: 0.0005898, val loss: 0.0159, TRAIN ACC: 100.000%, VAL ACC: 100.000%\n"
     ]
    },
    {
     "name": "stderr",
     "output_type": "stream",
     "text": [
      "Epoch 54 - train: 100%|██████████| 7/7 [00:00<00:00,  8.72it/s]\n"
     ]
    },
    {
     "name": "stdout",
     "output_type": "stream",
     "text": [
      "Epoch 54, train loss: 7.308e-05, val loss: 0.02232, TRAIN ACC: 100.000%, VAL ACC: 100.000%\n"
     ]
    },
    {
     "name": "stderr",
     "output_type": "stream",
     "text": [
      "Epoch 55 - train: 100%|██████████| 7/7 [00:00<00:00,  8.96it/s]\n"
     ]
    },
    {
     "name": "stdout",
     "output_type": "stream",
     "text": [
      "Epoch 55, train loss: 0.0007033, val loss: 0.01243, TRAIN ACC: 100.000%, VAL ACC: 100.000%\n"
     ]
    },
    {
     "name": "stderr",
     "output_type": "stream",
     "text": [
      "Epoch 56 - train: 100%|██████████| 7/7 [00:00<00:00,  8.14it/s]\n"
     ]
    },
    {
     "name": "stdout",
     "output_type": "stream",
     "text": [
      "Epoch 56, train loss: 0.0001294, val loss: 0.01701, TRAIN ACC: 100.000%, VAL ACC: 100.000%\n"
     ]
    },
    {
     "name": "stderr",
     "output_type": "stream",
     "text": [
      "Epoch 57 - train: 100%|██████████| 7/7 [00:00<00:00, 11.36it/s]\n"
     ]
    },
    {
     "name": "stdout",
     "output_type": "stream",
     "text": [
      "Epoch 57, train loss: 0.0005245, val loss: 0.01193, TRAIN ACC: 100.000%, VAL ACC: 100.000%\n"
     ]
    },
    {
     "name": "stderr",
     "output_type": "stream",
     "text": [
      "Epoch 58 - train: 100%|██████████| 7/7 [00:00<00:00,  8.52it/s]\n"
     ]
    },
    {
     "name": "stdout",
     "output_type": "stream",
     "text": [
      "Epoch 58, train loss: 6.557e-05, val loss: 0.01552, TRAIN ACC: 100.000%, VAL ACC: 100.000%\n"
     ]
    },
    {
     "name": "stderr",
     "output_type": "stream",
     "text": [
      "Epoch 59 - train: 100%|██████████| 7/7 [00:00<00:00,  8.02it/s]\n"
     ]
    },
    {
     "name": "stdout",
     "output_type": "stream",
     "text": [
      "Epoch 59, train loss: 0.0002098, val loss: 0.02957, TRAIN ACC: 100.000%, VAL ACC: 100.000%\n"
     ]
    },
    {
     "name": "stderr",
     "output_type": "stream",
     "text": [
      "Epoch 60 - train: 100%|██████████| 7/7 [00:00<00:00, 10.85it/s]\n"
     ]
    },
    {
     "name": "stdout",
     "output_type": "stream",
     "text": [
      "Epoch 60, train loss: 0.0002867, val loss: 0.03666, TRAIN ACC: 100.000%, VAL ACC: 100.000%\n"
     ]
    },
    {
     "data": {
      "image/png": "[encoded data removed]",
      "text/plain": [
       "<Figure size 640x480 with 1 Axes>"
      ]
     },
     "metadata": {},
     "output_type": "display_data"
    },
    {
     "data": {
      "text/plain": [
       "<Figure size 1000x700 with 0 Axes>"
      ]
     },
     "execution_count": 23,
     "metadata": {},
     "output_type": "execute_result"
    },
    {
     "data": {
      "text/plain": [
       "<Figure size 1000x700 with 0 Axes>"
      ]
     },
     "metadata": {},
     "output_type": "display_data"
    }
   ],
   "source": [
    "losses = []\n",
    "train_losses = []\n",
    "val_losses = []\n",
    "train_accs = []\n",
    "val_accs = []\n",
    "for x in range(num_epochs):\n",
    "    model.train()\n",
    "    running_loss = 0\n",
    "    train_correct = train_total = 0\n",
    "    for X, y in tqdm(train_loader, desc=f\"Epoch {x+1} - train\"):\n",
    "        X, y = X.to(device), y.to(device)\n",
    "        yhat = model(X.permute(0,2,1)) # change tensor shape so sensor data are the channels\n",
    "        _, pred = torch.max(nn.functional.softmax(yhat.data, dim=1), 1)\n",
    "        train_total += y.size(0)\n",
    "        loss = criterion(yhat, y)\n",
    "        running_loss += loss.item()\n",
    "        train_correct += (pred == y).sum().item()\n",
    "        optim.zero_grad()\n",
    "        loss.backward()\n",
    "        optim.step()\n",
    "    losses.append(running_loss / len(train_loader))\n",
    "\n",
    "    model.eval()\n",
    "    with torch.no_grad():\n",
    "        val_correct = val_total = 0\n",
    "        for X, y in val_loader:\n",
    "            X, y = X.to(device), y.to(device)\n",
    "            yhat = model(X.permute(0,2,1))\n",
    "            _, pred = torch.max(nn.functional.softmax(yhat.data, dim=1), 1)\n",
    "            val_total += y.size(0)\n",
    "            val_loss = criterion(yhat, y)\n",
    "            val_correct += (pred == y).sum().item()\n",
    "            # confusion += confusion_matrix(y.cpu().numpy(), pred.cpu().numpy(), labels=range(num_classes))\n",
    "    train_acc = train_correct / train_total\n",
    "    val_acc = val_correct / val_total\n",
    "    train_accs.append(train_acc)\n",
    "    val_accs.append(val_acc)\n",
    "\n",
    "    train_loss = running_loss / len(train_loader)\n",
    "    train_losses.append(train_loss)\n",
    "    val_losses.append(val_loss.item())\n",
    "    print(f\"Epoch {x+1}, train loss: {train_loss:.4}, val loss: {val_loss.item():.4}, TRAIN ACC: {train_acc:.3%}, VAL ACC: {val_acc:.3%}\")\n",
    "\n",
    "plt.plot(train_accs, label='Training Accuracy')\n",
    "plt.plot(val_accs, label='Validation Accuracy')\n",
    "plt.xlabel('Epoch')\n",
    "plt.ylabel('Accuracy')\n",
    "plt.legend()\n",
    "plt.show()\n",
    "plt.figure(figsize=(10, 7))"
   ]
  },
  {
   "cell_type": "code",
   "execution_count": 24,
   "metadata": {},
   "outputs": [
    {
     "data": {
      "image/png": "[encoded data removed]",
      "text/plain": [
       "<Figure size 640x480 with 2 Axes>"
      ]
     },
     "metadata": {},
     "output_type": "display_data"
    }
   ],
   "source": [
    "confusion = np.zeros((num_classes, num_classes))\n",
    "model.eval()\n",
    "with torch.no_grad():\n",
    "    val_correct = val_total = 0\n",
    "\n",
    "    for X, y in train_loader:\n",
    "        X, y = X.to(device), y.to(device)\n",
    "        yhat = model(X.permute(0,2,1))\n",
    "        _, pred = torch.max(nn.functional.softmax(yhat.data, dim=1), 1)\n",
    "        val_loss = criterion(yhat, y)\n",
    "        confusion += confusion_matrix(y.cpu().numpy(), pred.cpu().numpy(), labels=range(num_classes))\n",
    "\n",
    "    for X, y in val_loader:\n",
    "        X, y = X.to(device), y.to(device)\n",
    "        yhat = model(X.permute(0,2,1))\n",
    "        _, pred = torch.max(nn.functional.softmax(yhat.data, dim=1), 1)\n",
    "        val_loss = criterion(yhat, y)\n",
    "        confusion += confusion_matrix(y.cpu().numpy(), pred.cpu().numpy(), labels=range(num_classes))\n",
    "\n",
    "\n",
    "sns.heatmap(confusion, annot=True, fmt=\".0f\", cmap='Blues')\n",
    "plt.xlabel('Predicted')\n",
    "plt.ylabel('Actual')\n",
    "plt.show()"
   ]
  },
  {
   "cell_type": "code",
   "execution_count": 25,
   "metadata": {},
   "outputs": [],
   "source": [
    "torch.save(model, \"./models/CNN-ft.pth\")"
   ]
  },
  {
   "cell_type": "markdown",
   "metadata": {},
   "source": [
    "## Full training only on new data"
   ]
  },
  {
   "cell_type": "code",
   "execution_count": 26,
   "metadata": {},
   "outputs": [],
   "source": [
    "model = nn.Sequential(\n",
    "        nn.Conv1d(input_size, 64, 3, padding=1),\n",
    "        nn.ReLU(),\n",
    "        nn.MaxPool1d(kernel_size=2),\n",
    "        nn.Conv1d(64, 128, 3, padding=1),\n",
    "        nn.ReLU(),\n",
    "        nn.MaxPool1d(2),\n",
    "        nn.BatchNorm1d(128),\n",
    "        nn.Dropout(p=0.75),\n",
    "        nn.Flatten(start_dim=1),\n",
    "        nn.Linear(16000, 512),\n",
    "        nn.ReLU(),\n",
    "        nn.Linear(512, num_classes)\n",
    ").to(device)\n",
    "\n",
    "criterion = nn.CrossEntropyLoss()\n",
    "optim = torch.optim.SGD(model.parameters(), lr=6e-3, momentum=0.9, weight_decay=0.0003)"
   ]
  },
  {
   "cell_type": "code",
   "execution_count": 27,
   "metadata": {},
   "outputs": [
    {
     "name": "stderr",
     "output_type": "stream",
     "text": [
      "Epoch 1 - train:   0%|          | 0/7 [00:00<?, ?it/s]"
     ]
    },
    {
     "name": "stderr",
     "output_type": "stream",
     "text": [
      "Epoch 1 - train: 100%|██████████| 7/7 [00:00<00:00, 10.43it/s]\n"
     ]
    },
    {
     "name": "stdout",
     "output_type": "stream",
     "text": [
      "Epoch 1, train loss: 0.6515, val loss: 1.123, TRAIN ACC: 69.697%, VAL ACC: 48.000%\n"
     ]
    },
    {
     "name": "stderr",
     "output_type": "stream",
     "text": [
      "Epoch 2 - train: 100%|██████████| 7/7 [00:00<00:00, 12.34it/s]\n"
     ]
    },
    {
     "name": "stdout",
     "output_type": "stream",
     "text": [
      "Epoch 2, train loss: 0.1812, val loss: 0.8821, TRAIN ACC: 96.970%, VAL ACC: 96.000%\n"
     ]
    },
    {
     "name": "stderr",
     "output_type": "stream",
     "text": [
      "Epoch 3 - train: 100%|██████████| 7/7 [00:00<00:00, 10.58it/s]\n"
     ]
    },
    {
     "name": "stdout",
     "output_type": "stream",
     "text": [
      "Epoch 3, train loss: 0.1039, val loss: 0.7207, TRAIN ACC: 97.475%, VAL ACC: 90.000%\n"
     ]
    },
    {
     "name": "stderr",
     "output_type": "stream",
     "text": [
      "Epoch 4 - train: 100%|██████████| 7/7 [00:00<00:00, 10.90it/s]\n"
     ]
    },
    {
     "name": "stdout",
     "output_type": "stream",
     "text": [
      "Epoch 4, train loss: 0.04395, val loss: 0.5662, TRAIN ACC: 97.980%, VAL ACC: 92.000%\n"
     ]
    },
    {
     "name": "stderr",
     "output_type": "stream",
     "text": [
      "Epoch 5 - train: 100%|██████████| 7/7 [00:00<00:00, 11.49it/s]\n"
     ]
    },
    {
     "name": "stdout",
     "output_type": "stream",
     "text": [
      "Epoch 5, train loss: 0.01142, val loss: 0.3257, TRAIN ACC: 100.000%, VAL ACC: 100.000%\n"
     ]
    },
    {
     "name": "stderr",
     "output_type": "stream",
     "text": [
      "Epoch 6 - train: 100%|██████████| 7/7 [00:00<00:00,  9.37it/s]\n"
     ]
    },
    {
     "name": "stdout",
     "output_type": "stream",
     "text": [
      "Epoch 6, train loss: 0.01104, val loss: 0.1461, TRAIN ACC: 100.000%, VAL ACC: 100.000%\n"
     ]
    },
    {
     "name": "stderr",
     "output_type": "stream",
     "text": [
      "Epoch 7 - train: 100%|██████████| 7/7 [00:00<00:00, 11.33it/s]\n"
     ]
    },
    {
     "name": "stdout",
     "output_type": "stream",
     "text": [
      "Epoch 7, train loss: 0.01733, val loss: 0.09672, TRAIN ACC: 100.000%, VAL ACC: 98.000%\n"
     ]
    },
    {
     "name": "stderr",
     "output_type": "stream",
     "text": [
      "Epoch 8 - train: 100%|██████████| 7/7 [00:00<00:00, 11.87it/s]\n"
     ]
    },
    {
     "name": "stdout",
     "output_type": "stream",
     "text": [
      "Epoch 8, train loss: 0.01106, val loss: 0.195, TRAIN ACC: 99.495%, VAL ACC: 92.000%\n"
     ]
    },
    {
     "name": "stderr",
     "output_type": "stream",
     "text": [
      "Epoch 9 - train: 100%|██████████| 7/7 [00:00<00:00, 11.84it/s]\n"
     ]
    },
    {
     "name": "stdout",
     "output_type": "stream",
     "text": [
      "Epoch 9, train loss: 0.01352, val loss: 0.05797, TRAIN ACC: 100.000%, VAL ACC: 96.000%\n"
     ]
    },
    {
     "name": "stderr",
     "output_type": "stream",
     "text": [
      "Epoch 10 - train: 100%|██████████| 7/7 [00:00<00:00, 11.51it/s]\n"
     ]
    },
    {
     "name": "stdout",
     "output_type": "stream",
     "text": [
      "Epoch 10, train loss: 0.005451, val loss: 0.01661, TRAIN ACC: 100.000%, VAL ACC: 100.000%\n"
     ]
    },
    {
     "name": "stderr",
     "output_type": "stream",
     "text": [
      "Epoch 11 - train: 100%|██████████| 7/7 [00:00<00:00, 11.28it/s]\n"
     ]
    },
    {
     "name": "stdout",
     "output_type": "stream",
     "text": [
      "Epoch 11, train loss: 0.006454, val loss: 0.01189, TRAIN ACC: 100.000%, VAL ACC: 100.000%\n"
     ]
    },
    {
     "name": "stderr",
     "output_type": "stream",
     "text": [
      "Epoch 12 - train: 100%|██████████| 7/7 [00:00<00:00,  9.38it/s]\n"
     ]
    },
    {
     "name": "stdout",
     "output_type": "stream",
     "text": [
      "Epoch 12, train loss: 0.006467, val loss: 0.004142, TRAIN ACC: 100.000%, VAL ACC: 100.000%\n"
     ]
    },
    {
     "name": "stderr",
     "output_type": "stream",
     "text": [
      "Epoch 13 - train: 100%|██████████| 7/7 [00:00<00:00, 10.89it/s]\n"
     ]
    },
    {
     "name": "stdout",
     "output_type": "stream",
     "text": [
      "Epoch 13, train loss: 0.002027, val loss: 0.01337, TRAIN ACC: 100.000%, VAL ACC: 100.000%\n"
     ]
    },
    {
     "name": "stderr",
     "output_type": "stream",
     "text": [
      "Epoch 14 - train: 100%|██████████| 7/7 [00:00<00:00,  8.78it/s]\n"
     ]
    },
    {
     "name": "stdout",
     "output_type": "stream",
     "text": [
      "Epoch 14, train loss: 0.003585, val loss: 0.05239, TRAIN ACC: 100.000%, VAL ACC: 98.000%\n"
     ]
    },
    {
     "name": "stderr",
     "output_type": "stream",
     "text": [
      "Epoch 15 - train: 100%|██████████| 7/7 [00:00<00:00,  7.76it/s]\n"
     ]
    },
    {
     "name": "stdout",
     "output_type": "stream",
     "text": [
      "Epoch 15, train loss: 0.004167, val loss: 0.02052, TRAIN ACC: 99.495%, VAL ACC: 98.000%\n"
     ]
    },
    {
     "name": "stderr",
     "output_type": "stream",
     "text": [
      "Epoch 16 - train: 100%|██████████| 7/7 [00:00<00:00,  8.54it/s]\n"
     ]
    },
    {
     "name": "stdout",
     "output_type": "stream",
     "text": [
      "Epoch 16, train loss: 0.0006212, val loss: 0.003871, TRAIN ACC: 100.000%, VAL ACC: 98.000%\n"
     ]
    },
    {
     "name": "stderr",
     "output_type": "stream",
     "text": [
      "Epoch 17 - train: 100%|██████████| 7/7 [00:00<00:00,  9.46it/s]\n"
     ]
    },
    {
     "name": "stdout",
     "output_type": "stream",
     "text": [
      "Epoch 17, train loss: 0.0007925, val loss: 0.001601, TRAIN ACC: 100.000%, VAL ACC: 100.000%\n"
     ]
    },
    {
     "name": "stderr",
     "output_type": "stream",
     "text": [
      "Epoch 18 - train: 100%|██████████| 7/7 [00:00<00:00,  8.71it/s]\n"
     ]
    },
    {
     "name": "stdout",
     "output_type": "stream",
     "text": [
      "Epoch 18, train loss: 0.0002596, val loss: 0.001543, TRAIN ACC: 100.000%, VAL ACC: 100.000%\n"
     ]
    },
    {
     "name": "stderr",
     "output_type": "stream",
     "text": [
      "Epoch 19 - train: 100%|██████████| 7/7 [00:00<00:00, 12.45it/s]\n"
     ]
    },
    {
     "name": "stdout",
     "output_type": "stream",
     "text": [
      "Epoch 19, train loss: 0.0004658, val loss: 0.002502, TRAIN ACC: 100.000%, VAL ACC: 98.000%\n"
     ]
    },
    {
     "name": "stderr",
     "output_type": "stream",
     "text": [
      "Epoch 20 - train: 100%|██████████| 7/7 [00:00<00:00,  9.33it/s]\n"
     ]
    },
    {
     "name": "stdout",
     "output_type": "stream",
     "text": [
      "Epoch 20, train loss: 0.009002, val loss: 0.001476, TRAIN ACC: 100.000%, VAL ACC: 100.000%\n"
     ]
    },
    {
     "name": "stderr",
     "output_type": "stream",
     "text": [
      "Epoch 21 - train: 100%|██████████| 7/7 [00:00<00:00,  9.75it/s]\n"
     ]
    },
    {
     "name": "stdout",
     "output_type": "stream",
     "text": [
      "Epoch 21, train loss: 0.001279, val loss: 0.002212, TRAIN ACC: 100.000%, VAL ACC: 98.000%\n"
     ]
    },
    {
     "name": "stderr",
     "output_type": "stream",
     "text": [
      "Epoch 22 - train: 100%|██████████| 7/7 [00:00<00:00, 10.09it/s]\n"
     ]
    },
    {
     "name": "stdout",
     "output_type": "stream",
     "text": [
      "Epoch 22, train loss: 0.01415, val loss: 0.001308, TRAIN ACC: 100.000%, VAL ACC: 98.000%\n"
     ]
    },
    {
     "name": "stderr",
     "output_type": "stream",
     "text": [
      "Epoch 23 - train: 100%|██████████| 7/7 [00:00<00:00, 11.03it/s]\n"
     ]
    },
    {
     "name": "stdout",
     "output_type": "stream",
     "text": [
      "Epoch 23, train loss: 0.009999, val loss: 0.02009, TRAIN ACC: 99.495%, VAL ACC: 98.000%\n"
     ]
    },
    {
     "name": "stderr",
     "output_type": "stream",
     "text": [
      "Epoch 24 - train: 100%|██████████| 7/7 [00:00<00:00,  7.75it/s]\n"
     ]
    },
    {
     "name": "stdout",
     "output_type": "stream",
     "text": [
      "Epoch 24, train loss: 0.01036, val loss: 0.1383, TRAIN ACC: 99.495%, VAL ACC: 96.000%\n"
     ]
    },
    {
     "name": "stderr",
     "output_type": "stream",
     "text": [
      "Epoch 25 - train: 100%|██████████| 7/7 [00:00<00:00,  8.42it/s]\n"
     ]
    },
    {
     "name": "stdout",
     "output_type": "stream",
     "text": [
      "Epoch 25, train loss: 0.001407, val loss: 0.1051, TRAIN ACC: 100.000%, VAL ACC: 94.000%\n"
     ]
    },
    {
     "name": "stderr",
     "output_type": "stream",
     "text": [
      "Epoch 26 - train: 100%|██████████| 7/7 [00:00<00:00, 11.92it/s]\n"
     ]
    },
    {
     "name": "stdout",
     "output_type": "stream",
     "text": [
      "Epoch 26, train loss: 0.008771, val loss: 0.03715, TRAIN ACC: 100.000%, VAL ACC: 98.000%\n"
     ]
    },
    {
     "name": "stderr",
     "output_type": "stream",
     "text": [
      "Epoch 27 - train: 100%|██████████| 7/7 [00:00<00:00, 10.48it/s]\n"
     ]
    },
    {
     "name": "stdout",
     "output_type": "stream",
     "text": [
      "Epoch 27, train loss: 0.001125, val loss: 0.03394, TRAIN ACC: 100.000%, VAL ACC: 98.000%\n"
     ]
    },
    {
     "name": "stderr",
     "output_type": "stream",
     "text": [
      "Epoch 28 - train: 100%|██████████| 7/7 [00:00<00:00, 10.44it/s]\n"
     ]
    },
    {
     "name": "stdout",
     "output_type": "stream",
     "text": [
      "Epoch 28, train loss: 0.001172, val loss: 0.01482, TRAIN ACC: 100.000%, VAL ACC: 98.000%\n"
     ]
    },
    {
     "name": "stderr",
     "output_type": "stream",
     "text": [
      "Epoch 29 - train: 100%|██████████| 7/7 [00:00<00:00, 13.31it/s]\n"
     ]
    },
    {
     "name": "stdout",
     "output_type": "stream",
     "text": [
      "Epoch 29, train loss: 0.00191, val loss: 0.00271, TRAIN ACC: 100.000%, VAL ACC: 98.000%\n"
     ]
    },
    {
     "name": "stderr",
     "output_type": "stream",
     "text": [
      "Epoch 30 - train: 100%|██████████| 7/7 [00:00<00:00, 13.56it/s]\n"
     ]
    },
    {
     "name": "stdout",
     "output_type": "stream",
     "text": [
      "Epoch 30, train loss: 0.0003716, val loss: 0.001393, TRAIN ACC: 100.000%, VAL ACC: 98.000%\n"
     ]
    },
    {
     "name": "stderr",
     "output_type": "stream",
     "text": [
      "Epoch 31 - train: 100%|██████████| 7/7 [00:00<00:00, 12.76it/s]\n"
     ]
    },
    {
     "name": "stdout",
     "output_type": "stream",
     "text": [
      "Epoch 31, train loss: 0.0007955, val loss: 0.0008855, TRAIN ACC: 100.000%, VAL ACC: 98.000%\n"
     ]
    },
    {
     "name": "stderr",
     "output_type": "stream",
     "text": [
      "Epoch 32 - train: 100%|██████████| 7/7 [00:00<00:00, 11.01it/s]\n"
     ]
    },
    {
     "name": "stdout",
     "output_type": "stream",
     "text": [
      "Epoch 32, train loss: 0.00035, val loss: 0.001363, TRAIN ACC: 100.000%, VAL ACC: 98.000%\n"
     ]
    },
    {
     "name": "stderr",
     "output_type": "stream",
     "text": [
      "Epoch 33 - train: 100%|██████████| 7/7 [00:00<00:00, 13.17it/s]\n"
     ]
    },
    {
     "name": "stdout",
     "output_type": "stream",
     "text": [
      "Epoch 33, train loss: 0.000312, val loss: 0.001187, TRAIN ACC: 100.000%, VAL ACC: 98.000%\n"
     ]
    },
    {
     "name": "stderr",
     "output_type": "stream",
     "text": [
      "Epoch 34 - train: 100%|██████████| 7/7 [00:00<00:00, 12.82it/s]\n"
     ]
    },
    {
     "name": "stdout",
     "output_type": "stream",
     "text": [
      "Epoch 34, train loss: 0.000601, val loss: 0.001027, TRAIN ACC: 100.000%, VAL ACC: 98.000%\n"
     ]
    },
    {
     "name": "stderr",
     "output_type": "stream",
     "text": [
      "Epoch 35 - train: 100%|██████████| 7/7 [00:00<00:00, 13.89it/s]\n"
     ]
    },
    {
     "name": "stdout",
     "output_type": "stream",
     "text": [
      "Epoch 35, train loss: 0.0006102, val loss: 0.00245, TRAIN ACC: 100.000%, VAL ACC: 98.000%\n"
     ]
    },
    {
     "name": "stderr",
     "output_type": "stream",
     "text": [
      "Epoch 36 - train: 100%|██████████| 7/7 [00:00<00:00, 13.74it/s]\n"
     ]
    },
    {
     "name": "stdout",
     "output_type": "stream",
     "text": [
      "Epoch 36, train loss: 0.0005787, val loss: 0.001171, TRAIN ACC: 100.000%, VAL ACC: 100.000%\n"
     ]
    },
    {
     "name": "stderr",
     "output_type": "stream",
     "text": [
      "Epoch 37 - train: 100%|██████████| 7/7 [00:00<00:00, 12.88it/s]\n"
     ]
    },
    {
     "name": "stdout",
     "output_type": "stream",
     "text": [
      "Epoch 37, train loss: 0.001063, val loss: 0.001365, TRAIN ACC: 100.000%, VAL ACC: 100.000%\n"
     ]
    },
    {
     "name": "stderr",
     "output_type": "stream",
     "text": [
      "Epoch 38 - train: 100%|██████████| 7/7 [00:00<00:00, 12.65it/s]\n"
     ]
    },
    {
     "name": "stdout",
     "output_type": "stream",
     "text": [
      "Epoch 38, train loss: 0.0009045, val loss: 0.00089, TRAIN ACC: 100.000%, VAL ACC: 100.000%\n"
     ]
    },
    {
     "name": "stderr",
     "output_type": "stream",
     "text": [
      "Epoch 39 - train: 100%|██████████| 7/7 [00:00<00:00, 12.55it/s]\n"
     ]
    },
    {
     "name": "stdout",
     "output_type": "stream",
     "text": [
      "Epoch 39, train loss: 0.0005373, val loss: 0.001925, TRAIN ACC: 100.000%, VAL ACC: 98.000%\n"
     ]
    },
    {
     "name": "stderr",
     "output_type": "stream",
     "text": [
      "Epoch 40 - train: 100%|██████████| 7/7 [00:00<00:00, 11.95it/s]\n"
     ]
    },
    {
     "name": "stdout",
     "output_type": "stream",
     "text": [
      "Epoch 40, train loss: 0.001048, val loss: 0.003056, TRAIN ACC: 100.000%, VAL ACC: 98.000%\n"
     ]
    },
    {
     "name": "stderr",
     "output_type": "stream",
     "text": [
      "Epoch 41 - train: 100%|██████████| 7/7 [00:00<00:00, 13.69it/s]\n"
     ]
    },
    {
     "name": "stdout",
     "output_type": "stream",
     "text": [
      "Epoch 41, train loss: 0.0001984, val loss: 0.001775, TRAIN ACC: 100.000%, VAL ACC: 98.000%\n"
     ]
    },
    {
     "name": "stderr",
     "output_type": "stream",
     "text": [
      "Epoch 42 - train: 100%|██████████| 7/7 [00:00<00:00,  8.79it/s]\n"
     ]
    },
    {
     "name": "stdout",
     "output_type": "stream",
     "text": [
      "Epoch 42, train loss: 0.000214, val loss: 0.002944, TRAIN ACC: 100.000%, VAL ACC: 98.000%\n"
     ]
    },
    {
     "name": "stderr",
     "output_type": "stream",
     "text": [
      "Epoch 43 - train: 100%|██████████| 7/7 [00:00<00:00, 12.71it/s]\n"
     ]
    },
    {
     "name": "stdout",
     "output_type": "stream",
     "text": [
      "Epoch 43, train loss: 0.0005851, val loss: 0.002369, TRAIN ACC: 100.000%, VAL ACC: 98.000%\n"
     ]
    },
    {
     "name": "stderr",
     "output_type": "stream",
     "text": [
      "Epoch 44 - train: 100%|██████████| 7/7 [00:00<00:00,  9.05it/s]\n"
     ]
    },
    {
     "name": "stdout",
     "output_type": "stream",
     "text": [
      "Epoch 44, train loss: 0.0003989, val loss: 0.001463, TRAIN ACC: 100.000%, VAL ACC: 98.000%\n"
     ]
    },
    {
     "name": "stderr",
     "output_type": "stream",
     "text": [
      "Epoch 45 - train: 100%|██████████| 7/7 [00:00<00:00, 12.39it/s]\n"
     ]
    },
    {
     "name": "stdout",
     "output_type": "stream",
     "text": [
      "Epoch 45, train loss: 0.000286, val loss: 0.001767, TRAIN ACC: 100.000%, VAL ACC: 98.000%\n"
     ]
    },
    {
     "name": "stderr",
     "output_type": "stream",
     "text": [
      "Epoch 46 - train: 100%|██████████| 7/7 [00:00<00:00, 12.84it/s]\n"
     ]
    },
    {
     "name": "stdout",
     "output_type": "stream",
     "text": [
      "Epoch 46, train loss: 0.001069, val loss: 0.002418, TRAIN ACC: 100.000%, VAL ACC: 98.000%\n"
     ]
    },
    {
     "name": "stderr",
     "output_type": "stream",
     "text": [
      "Epoch 47 - train: 100%|██████████| 7/7 [00:00<00:00, 13.65it/s]\n"
     ]
    },
    {
     "name": "stdout",
     "output_type": "stream",
     "text": [
      "Epoch 47, train loss: 0.0001572, val loss: 0.002653, TRAIN ACC: 100.000%, VAL ACC: 98.000%\n"
     ]
    },
    {
     "name": "stderr",
     "output_type": "stream",
     "text": [
      "Epoch 48 - train: 100%|██████████| 7/7 [00:00<00:00, 10.53it/s]\n"
     ]
    },
    {
     "name": "stdout",
     "output_type": "stream",
     "text": [
      "Epoch 48, train loss: 0.0008063, val loss: 0.001975, TRAIN ACC: 100.000%, VAL ACC: 98.000%\n"
     ]
    },
    {
     "name": "stderr",
     "output_type": "stream",
     "text": [
      "Epoch 49 - train: 100%|██████████| 7/7 [00:00<00:00, 10.83it/s]\n"
     ]
    },
    {
     "name": "stdout",
     "output_type": "stream",
     "text": [
      "Epoch 49, train loss: 0.0002018, val loss: 0.003252, TRAIN ACC: 100.000%, VAL ACC: 98.000%\n"
     ]
    },
    {
     "name": "stderr",
     "output_type": "stream",
     "text": [
      "Epoch 50 - train: 100%|██████████| 7/7 [00:00<00:00,  7.67it/s]\n"
     ]
    },
    {
     "name": "stdout",
     "output_type": "stream",
     "text": [
      "Epoch 50, train loss: 4.686e-05, val loss: 0.00186, TRAIN ACC: 100.000%, VAL ACC: 98.000%\n"
     ]
    },
    {
     "name": "stderr",
     "output_type": "stream",
     "text": [
      "Epoch 51 - train: 100%|██████████| 7/7 [00:00<00:00, 10.45it/s]\n"
     ]
    },
    {
     "name": "stdout",
     "output_type": "stream",
     "text": [
      "Epoch 51, train loss: 0.0001236, val loss: 0.001385, TRAIN ACC: 100.000%, VAL ACC: 100.000%\n"
     ]
    },
    {
     "name": "stderr",
     "output_type": "stream",
     "text": [
      "Epoch 52 - train: 100%|██████████| 7/7 [00:00<00:00, 10.57it/s]\n"
     ]
    },
    {
     "name": "stdout",
     "output_type": "stream",
     "text": [
      "Epoch 52, train loss: 0.0003885, val loss: 0.003185, TRAIN ACC: 100.000%, VAL ACC: 98.000%\n"
     ]
    },
    {
     "name": "stderr",
     "output_type": "stream",
     "text": [
      "Epoch 53 - train: 100%|██████████| 7/7 [00:00<00:00, 10.40it/s]\n"
     ]
    },
    {
     "name": "stdout",
     "output_type": "stream",
     "text": [
      "Epoch 53, train loss: 4.332e-05, val loss: 0.001447, TRAIN ACC: 100.000%, VAL ACC: 98.000%\n"
     ]
    },
    {
     "name": "stderr",
     "output_type": "stream",
     "text": [
      "Epoch 54 - train: 100%|██████████| 7/7 [00:00<00:00,  9.90it/s]\n"
     ]
    },
    {
     "name": "stdout",
     "output_type": "stream",
     "text": [
      "Epoch 54, train loss: 6.362e-05, val loss: 0.002086, TRAIN ACC: 100.000%, VAL ACC: 98.000%\n"
     ]
    },
    {
     "name": "stderr",
     "output_type": "stream",
     "text": [
      "Epoch 55 - train: 100%|██████████| 7/7 [00:00<00:00, 11.02it/s]\n"
     ]
    },
    {
     "name": "stdout",
     "output_type": "stream",
     "text": [
      "Epoch 55, train loss: 5.638e-05, val loss: 0.002577, TRAIN ACC: 100.000%, VAL ACC: 98.000%\n"
     ]
    },
    {
     "name": "stderr",
     "output_type": "stream",
     "text": [
      "Epoch 56 - train: 100%|██████████| 7/7 [00:00<00:00, 11.43it/s]\n"
     ]
    },
    {
     "name": "stdout",
     "output_type": "stream",
     "text": [
      "Epoch 56, train loss: 0.0002515, val loss: 0.003481, TRAIN ACC: 100.000%, VAL ACC: 98.000%\n"
     ]
    },
    {
     "name": "stderr",
     "output_type": "stream",
     "text": [
      "Epoch 57 - train: 100%|██████████| 7/7 [00:00<00:00, 12.43it/s]\n"
     ]
    },
    {
     "name": "stdout",
     "output_type": "stream",
     "text": [
      "Epoch 57, train loss: 8.976e-05, val loss: 0.004635, TRAIN ACC: 100.000%, VAL ACC: 98.000%\n"
     ]
    },
    {
     "name": "stderr",
     "output_type": "stream",
     "text": [
      "Epoch 58 - train: 100%|██████████| 7/7 [00:00<00:00, 12.21it/s]\n"
     ]
    },
    {
     "name": "stdout",
     "output_type": "stream",
     "text": [
      "Epoch 58, train loss: 0.0001534, val loss: 0.00463, TRAIN ACC: 100.000%, VAL ACC: 98.000%\n"
     ]
    },
    {
     "name": "stderr",
     "output_type": "stream",
     "text": [
      "Epoch 59 - train: 100%|██████████| 7/7 [00:00<00:00, 10.84it/s]\n"
     ]
    },
    {
     "name": "stdout",
     "output_type": "stream",
     "text": [
      "Epoch 59, train loss: 0.0001131, val loss: 0.002853, TRAIN ACC: 100.000%, VAL ACC: 98.000%\n"
     ]
    },
    {
     "name": "stderr",
     "output_type": "stream",
     "text": [
      "Epoch 60 - train: 100%|██████████| 7/7 [00:00<00:00, 12.71it/s]\n"
     ]
    },
    {
     "name": "stdout",
     "output_type": "stream",
     "text": [
      "Epoch 60, train loss: 7.811e-05, val loss: 0.002676, TRAIN ACC: 100.000%, VAL ACC: 98.000%\n"
     ]
    },
    {
     "data": {
      "image/png": "[encoded data removed]",
      "text/plain": [
       "<Figure size 640x480 with 1 Axes>"
      ]
     },
     "metadata": {},
     "output_type": "display_data"
    },
    {
     "data": {
      "text/plain": [
       "<Figure size 1000x700 with 0 Axes>"
      ]
     },
     "execution_count": 27,
     "metadata": {},
     "output_type": "execute_result"
    },
    {
     "data": {
      "text/plain": [
       "<Figure size 1000x700 with 0 Axes>"
      ]
     },
     "metadata": {},
     "output_type": "display_data"
    }
   ],
   "source": [
    "losses = []\n",
    "train_losses = []\n",
    "val_losses = []\n",
    "train_accs = []\n",
    "val_accs = []\n",
    "for x in range(num_epochs):\n",
    "    model.train()\n",
    "    running_loss = 0\n",
    "    train_correct = train_total = 0\n",
    "    for X, y in tqdm(train_loader, desc=f\"Epoch {x+1} - train\"):\n",
    "        X, y = X.to(device), y.to(device)\n",
    "        yhat = model(X.permute(0,2,1)) # change tensor shape so sensor data are the channels\n",
    "        _, pred = torch.max(nn.functional.softmax(yhat.data, dim=1), 1)\n",
    "        train_total += y.size(0)\n",
    "        loss = criterion(yhat, y)\n",
    "        running_loss += loss.item()\n",
    "        train_correct += (pred == y).sum().item()\n",
    "        optim.zero_grad()\n",
    "        loss.backward()\n",
    "        optim.step()\n",
    "    losses.append(running_loss / len(train_loader))\n",
    "\n",
    "    model.eval()\n",
    "    with torch.no_grad():\n",
    "        val_correct = val_total = 0\n",
    "        for X, y in val_loader:\n",
    "            X, y = X.to(device), y.to(device)\n",
    "            yhat = model(X.permute(0,2,1))\n",
    "            _, pred = torch.max(nn.functional.softmax(yhat.data, dim=1), 1)\n",
    "            val_total += y.size(0)\n",
    "            val_loss = criterion(yhat, y)\n",
    "            val_correct += (pred == y).sum().item()\n",
    "    train_acc = train_correct / train_total\n",
    "    val_acc = val_correct / val_total\n",
    "    train_accs.append(train_acc)\n",
    "    val_accs.append(val_acc)\n",
    "\n",
    "    train_loss = running_loss / len(train_loader)\n",
    "    train_losses.append(train_loss)\n",
    "    val_losses.append(val_loss.item())\n",
    "    print(f\"Epoch {x+1}, train loss: {train_loss:.4}, val loss: {val_loss.item():.4}, TRAIN ACC: {train_acc:.3%}, VAL ACC: {val_acc:.3%}\")\n",
    "\n",
    "plt.plot(train_accs, label='Training Accuracy')\n",
    "plt.plot(val_accs, label='Validation Accuracy')\n",
    "plt.xlabel('Epoch')\n",
    "plt.ylabel('Accuracy')\n",
    "plt.legend()\n",
    "plt.show()\n",
    "plt.figure(figsize=(10, 7))"
   ]
  },
  {
   "cell_type": "code",
   "execution_count": 28,
   "metadata": {},
   "outputs": [
    {
     "data": {
      "image/png": "[encoded data removed]",
      "text/plain": [
       "<Figure size 640x480 with 2 Axes>"
      ]
     },
     "metadata": {},
     "output_type": "display_data"
    }
   ],
   "source": [
    "confusion = np.zeros((num_classes, num_classes))\n",
    "model.eval()\n",
    "with torch.no_grad():\n",
    "    val_correct = val_total = 0\n",
    "\n",
    "    for X, y in train_loader:\n",
    "        X, y = X.to(device), y.to(device)\n",
    "        yhat = model(X.permute(0,2,1))\n",
    "        _, pred = torch.max(nn.functional.softmax(yhat.data, dim=1), 1)\n",
    "        val_loss = criterion(yhat, y)\n",
    "        confusion += confusion_matrix(y.cpu().numpy(), pred.cpu().numpy(), labels=range(num_classes))\n",
    "\n",
    "    for X, y in val_loader:\n",
    "        X, y = X.to(device), y.to(device)\n",
    "        yhat = model(X.permute(0,2,1))\n",
    "        _, pred = torch.max(nn.functional.softmax(yhat.data, dim=1), 1)\n",
    "        val_loss = criterion(yhat, y)\n",
    "        confusion += confusion_matrix(y.cpu().numpy(), pred.cpu().numpy(), labels=range(num_classes))\n",
    "\n",
    "\n",
    "sns.heatmap(confusion, annot=True, fmt=\".0f\", cmap='Blues')\n",
    "plt.xlabel('Predicted')\n",
    "plt.ylabel('Actual')\n",
    "plt.show()"
   ]
  },
  {
   "cell_type": "code",
   "execution_count": 29,
   "metadata": {},
   "outputs": [],
   "source": [
    "torch.save(model, \"./models/CNN-bt.pth\")"
   ]
  },
  {
   "cell_type": "markdown",
   "metadata": {},
   "source": [
    "## Full training on combined data"
   ]
  },
  {
   "cell_type": "code",
   "execution_count": 31,
   "metadata": {},
   "outputs": [],
   "source": [
    "train_labels = \"./data/labels/train.csv\"\n",
    "val_labels = \"./data/labels/val.csv\"\n",
    "new_dir = \"./bluetooth-data/\"\n",
    "old_dir = \"./data/\"\n",
    "\n",
    "new_train = MotionData(train_labels, new_dir)\n",
    "old_train = MotionData(train_labels, old_dir)\n",
    "train_data = ConcatDataset([old_train, new_train])\n",
    "train_loader = DataLoader(train_data, batch_size=32, shuffle=True)\n",
    "\n",
    "new_val = MotionData(val_labels, new_dir)\n",
    "old_val = MotionData(val_labels, old_dir)\n",
    "val_data = ConcatDataset([old_val, new_val])\n",
    "val_loader = DataLoader(val_data, batch_size=32)\n",
    "\n",
    "model = nn.Sequential(\n",
    "        nn.Conv1d(input_size, 64, 3, padding=1),\n",
    "        nn.ReLU(),\n",
    "        nn.MaxPool1d(kernel_size=2),\n",
    "        nn.Conv1d(64, 128, 3, padding=1),\n",
    "        nn.ReLU(),\n",
    "        nn.MaxPool1d(2),\n",
    "        nn.BatchNorm1d(128),\n",
    "        nn.Dropout(p=0.75),\n",
    "        nn.Flatten(start_dim=1),\n",
    "        nn.Linear(16000, 512),\n",
    "        nn.ReLU(),\n",
    "        nn.Linear(512, num_classes)\n",
    ").to(device)\n",
    "\n",
    "criterion = nn.CrossEntropyLoss()\n",
    "optim = torch.optim.SGD(model.parameters(), lr=6e-3, momentum=0.9, weight_decay=0.0003)"
   ]
  },
  {
   "cell_type": "code",
   "execution_count": 32,
   "metadata": {},
   "outputs": [
    {
     "name": "stderr",
     "output_type": "stream",
     "text": [
      "Epoch 1 - train: 100%|██████████| 13/13 [00:01<00:00,  8.55it/s]\n"
     ]
    },
    {
     "name": "stdout",
     "output_type": "stream",
     "text": [
      "Epoch 1, train loss: 0.735, val loss: 1.327, TRAIN ACC: 72.980%, VAL ACC: 80.000%\n"
     ]
    },
    {
     "name": "stderr",
     "output_type": "stream",
     "text": [
      "Epoch 2 - train: 100%|██████████| 13/13 [00:01<00:00,  8.89it/s]\n"
     ]
    },
    {
     "name": "stdout",
     "output_type": "stream",
     "text": [
      "Epoch 2, train loss: 0.2131, val loss: 1.157, TRAIN ACC: 93.182%, VAL ACC: 67.000%\n"
     ]
    },
    {
     "name": "stderr",
     "output_type": "stream",
     "text": [
      "Epoch 3 - train: 100%|██████████| 13/13 [00:01<00:00,  9.28it/s]\n"
     ]
    },
    {
     "name": "stdout",
     "output_type": "stream",
     "text": [
      "Epoch 3, train loss: 0.1295, val loss: 0.6487, TRAIN ACC: 95.707%, VAL ACC: 76.000%\n"
     ]
    },
    {
     "name": "stderr",
     "output_type": "stream",
     "text": [
      "Epoch 4 - train: 100%|██████████| 13/13 [00:01<00:00,  9.04it/s]\n"
     ]
    },
    {
     "name": "stdout",
     "output_type": "stream",
     "text": [
      "Epoch 4, train loss: 0.05984, val loss: 0.1041, TRAIN ACC: 98.485%, VAL ACC: 91.000%\n"
     ]
    },
    {
     "name": "stderr",
     "output_type": "stream",
     "text": [
      "Epoch 5 - train: 100%|██████████| 13/13 [00:01<00:00,  7.49it/s]\n"
     ]
    },
    {
     "name": "stdout",
     "output_type": "stream",
     "text": [
      "Epoch 5, train loss: 0.02731, val loss: 0.2117, TRAIN ACC: 99.242%, VAL ACC: 97.000%\n"
     ]
    },
    {
     "name": "stderr",
     "output_type": "stream",
     "text": [
      "Epoch 6 - train: 100%|██████████| 13/13 [00:01<00:00,  8.81it/s]\n"
     ]
    },
    {
     "name": "stdout",
     "output_type": "stream",
     "text": [
      "Epoch 6, train loss: 0.02146, val loss: 0.001248, TRAIN ACC: 99.495%, VAL ACC: 96.000%\n"
     ]
    },
    {
     "name": "stderr",
     "output_type": "stream",
     "text": [
      "Epoch 7 - train: 100%|██████████| 13/13 [00:01<00:00,  9.21it/s]\n"
     ]
    },
    {
     "name": "stdout",
     "output_type": "stream",
     "text": [
      "Epoch 7, train loss: 0.009578, val loss: 0.0005189, TRAIN ACC: 100.000%, VAL ACC: 96.000%\n"
     ]
    },
    {
     "name": "stderr",
     "output_type": "stream",
     "text": [
      "Epoch 8 - train: 100%|██████████| 13/13 [00:01<00:00, 10.74it/s]\n"
     ]
    },
    {
     "name": "stdout",
     "output_type": "stream",
     "text": [
      "Epoch 8, train loss: 0.004336, val loss: 0.0009606, TRAIN ACC: 100.000%, VAL ACC: 97.000%\n"
     ]
    },
    {
     "name": "stderr",
     "output_type": "stream",
     "text": [
      "Epoch 9 - train: 100%|██████████| 13/13 [00:01<00:00, 10.42it/s]\n"
     ]
    },
    {
     "name": "stdout",
     "output_type": "stream",
     "text": [
      "Epoch 9, train loss: 0.002789, val loss: 0.00109, TRAIN ACC: 100.000%, VAL ACC: 97.000%\n"
     ]
    },
    {
     "name": "stderr",
     "output_type": "stream",
     "text": [
      "Epoch 10 - train: 100%|██████████| 13/13 [00:01<00:00, 11.19it/s]\n"
     ]
    },
    {
     "name": "stdout",
     "output_type": "stream",
     "text": [
      "Epoch 10, train loss: 0.005302, val loss: 0.001088, TRAIN ACC: 100.000%, VAL ACC: 97.000%\n"
     ]
    },
    {
     "name": "stderr",
     "output_type": "stream",
     "text": [
      "Epoch 11 - train: 100%|██████████| 13/13 [00:01<00:00, 10.91it/s]\n"
     ]
    },
    {
     "name": "stdout",
     "output_type": "stream",
     "text": [
      "Epoch 11, train loss: 0.004355, val loss: 0.003554, TRAIN ACC: 100.000%, VAL ACC: 96.000%\n"
     ]
    },
    {
     "name": "stderr",
     "output_type": "stream",
     "text": [
      "Epoch 12 - train: 100%|██████████| 13/13 [00:01<00:00, 10.64it/s]\n"
     ]
    },
    {
     "name": "stdout",
     "output_type": "stream",
     "text": [
      "Epoch 12, train loss: 0.004156, val loss: 0.002181, TRAIN ACC: 100.000%, VAL ACC: 95.000%\n"
     ]
    },
    {
     "name": "stderr",
     "output_type": "stream",
     "text": [
      "Epoch 13 - train: 100%|██████████| 13/13 [00:01<00:00, 11.38it/s]\n"
     ]
    },
    {
     "name": "stdout",
     "output_type": "stream",
     "text": [
      "Epoch 13, train loss: 0.005082, val loss: 0.001158, TRAIN ACC: 100.000%, VAL ACC: 96.000%\n"
     ]
    },
    {
     "name": "stderr",
     "output_type": "stream",
     "text": [
      "Epoch 14 - train: 100%|██████████| 13/13 [00:01<00:00, 11.38it/s]\n"
     ]
    },
    {
     "name": "stdout",
     "output_type": "stream",
     "text": [
      "Epoch 14, train loss: 0.002736, val loss: 0.001038, TRAIN ACC: 100.000%, VAL ACC: 97.000%\n"
     ]
    },
    {
     "name": "stderr",
     "output_type": "stream",
     "text": [
      "Epoch 15 - train: 100%|██████████| 13/13 [00:01<00:00, 11.51it/s]\n"
     ]
    },
    {
     "name": "stdout",
     "output_type": "stream",
     "text": [
      "Epoch 15, train loss: 0.001647, val loss: 0.0006238, TRAIN ACC: 100.000%, VAL ACC: 96.000%\n"
     ]
    },
    {
     "name": "stderr",
     "output_type": "stream",
     "text": [
      "Epoch 16 - train: 100%|██████████| 13/13 [00:01<00:00, 11.79it/s]\n"
     ]
    },
    {
     "name": "stdout",
     "output_type": "stream",
     "text": [
      "Epoch 16, train loss: 0.001774, val loss: 0.0003368, TRAIN ACC: 100.000%, VAL ACC: 96.000%\n"
     ]
    },
    {
     "name": "stderr",
     "output_type": "stream",
     "text": [
      "Epoch 17 - train: 100%|██████████| 13/13 [00:01<00:00, 11.44it/s]\n"
     ]
    },
    {
     "name": "stdout",
     "output_type": "stream",
     "text": [
      "Epoch 17, train loss: 0.001369, val loss: 0.0002944, TRAIN ACC: 100.000%, VAL ACC: 96.000%\n"
     ]
    },
    {
     "name": "stderr",
     "output_type": "stream",
     "text": [
      "Epoch 18 - train: 100%|██████████| 13/13 [00:01<00:00, 11.62it/s]\n"
     ]
    },
    {
     "name": "stdout",
     "output_type": "stream",
     "text": [
      "Epoch 18, train loss: 0.0007417, val loss: 0.0003408, TRAIN ACC: 100.000%, VAL ACC: 96.000%\n"
     ]
    },
    {
     "name": "stderr",
     "output_type": "stream",
     "text": [
      "Epoch 19 - train: 100%|██████████| 13/13 [00:01<00:00, 11.59it/s]\n"
     ]
    },
    {
     "name": "stdout",
     "output_type": "stream",
     "text": [
      "Epoch 19, train loss: 0.006942, val loss: 0.00047, TRAIN ACC: 99.747%, VAL ACC: 96.000%\n"
     ]
    },
    {
     "name": "stderr",
     "output_type": "stream",
     "text": [
      "Epoch 20 - train: 100%|██████████| 13/13 [00:01<00:00, 11.08it/s]\n"
     ]
    },
    {
     "name": "stdout",
     "output_type": "stream",
     "text": [
      "Epoch 20, train loss: 0.004238, val loss: 0.0005446, TRAIN ACC: 100.000%, VAL ACC: 95.000%\n"
     ]
    },
    {
     "name": "stderr",
     "output_type": "stream",
     "text": [
      "Epoch 21 - train: 100%|██████████| 13/13 [00:01<00:00, 11.20it/s]\n"
     ]
    },
    {
     "name": "stdout",
     "output_type": "stream",
     "text": [
      "Epoch 21, train loss: 0.007519, val loss: 0.0007273, TRAIN ACC: 99.747%, VAL ACC: 95.000%\n"
     ]
    },
    {
     "name": "stderr",
     "output_type": "stream",
     "text": [
      "Epoch 22 - train: 100%|██████████| 13/13 [00:01<00:00, 11.54it/s]\n"
     ]
    },
    {
     "name": "stdout",
     "output_type": "stream",
     "text": [
      "Epoch 22, train loss: 0.005887, val loss: 0.0007443, TRAIN ACC: 99.747%, VAL ACC: 97.000%\n"
     ]
    },
    {
     "name": "stderr",
     "output_type": "stream",
     "text": [
      "Epoch 23 - train: 100%|██████████| 13/13 [00:01<00:00, 10.16it/s]\n"
     ]
    },
    {
     "name": "stdout",
     "output_type": "stream",
     "text": [
      "Epoch 23, train loss: 0.002208, val loss: 0.0002854, TRAIN ACC: 100.000%, VAL ACC: 98.000%\n"
     ]
    },
    {
     "name": "stderr",
     "output_type": "stream",
     "text": [
      "Epoch 24 - train: 100%|██████████| 13/13 [00:01<00:00, 11.53it/s]\n"
     ]
    },
    {
     "name": "stdout",
     "output_type": "stream",
     "text": [
      "Epoch 24, train loss: 0.001811, val loss: 0.0002834, TRAIN ACC: 100.000%, VAL ACC: 98.000%\n"
     ]
    },
    {
     "name": "stderr",
     "output_type": "stream",
     "text": [
      "Epoch 25 - train: 100%|██████████| 13/13 [00:01<00:00, 11.27it/s]\n"
     ]
    },
    {
     "name": "stdout",
     "output_type": "stream",
     "text": [
      "Epoch 25, train loss: 0.000896, val loss: 0.0002561, TRAIN ACC: 100.000%, VAL ACC: 98.000%\n"
     ]
    },
    {
     "name": "stderr",
     "output_type": "stream",
     "text": [
      "Epoch 26 - train: 100%|██████████| 13/13 [00:01<00:00, 11.10it/s]\n"
     ]
    },
    {
     "name": "stdout",
     "output_type": "stream",
     "text": [
      "Epoch 26, train loss: 0.0005958, val loss: 0.0002934, TRAIN ACC: 100.000%, VAL ACC: 98.000%\n"
     ]
    },
    {
     "name": "stderr",
     "output_type": "stream",
     "text": [
      "Epoch 27 - train: 100%|██████████| 13/13 [00:01<00:00, 11.53it/s]\n"
     ]
    },
    {
     "name": "stdout",
     "output_type": "stream",
     "text": [
      "Epoch 27, train loss: 0.0007623, val loss: 0.0002073, TRAIN ACC: 100.000%, VAL ACC: 97.000%\n"
     ]
    },
    {
     "name": "stderr",
     "output_type": "stream",
     "text": [
      "Epoch 28 - train: 100%|██████████| 13/13 [00:01<00:00, 11.40it/s]\n"
     ]
    },
    {
     "name": "stdout",
     "output_type": "stream",
     "text": [
      "Epoch 28, train loss: 0.001068, val loss: 0.0002111, TRAIN ACC: 100.000%, VAL ACC: 97.000%\n"
     ]
    },
    {
     "name": "stderr",
     "output_type": "stream",
     "text": [
      "Epoch 29 - train: 100%|██████████| 13/13 [00:01<00:00, 11.31it/s]\n"
     ]
    },
    {
     "name": "stdout",
     "output_type": "stream",
     "text": [
      "Epoch 29, train loss: 0.0007891, val loss: 0.0003135, TRAIN ACC: 100.000%, VAL ACC: 97.000%\n"
     ]
    },
    {
     "name": "stderr",
     "output_type": "stream",
     "text": [
      "Epoch 30 - train: 100%|██████████| 13/13 [00:01<00:00, 11.63it/s]\n"
     ]
    },
    {
     "name": "stdout",
     "output_type": "stream",
     "text": [
      "Epoch 30, train loss: 0.0006539, val loss: 0.0002966, TRAIN ACC: 100.000%, VAL ACC: 97.000%\n"
     ]
    },
    {
     "name": "stderr",
     "output_type": "stream",
     "text": [
      "Epoch 31 - train: 100%|██████████| 13/13 [00:01<00:00, 10.39it/s]\n"
     ]
    },
    {
     "name": "stdout",
     "output_type": "stream",
     "text": [
      "Epoch 31, train loss: 0.001433, val loss: 0.0002878, TRAIN ACC: 100.000%, VAL ACC: 97.000%\n"
     ]
    },
    {
     "name": "stderr",
     "output_type": "stream",
     "text": [
      "Epoch 32 - train: 100%|██████████| 13/13 [00:01<00:00, 11.34it/s]\n"
     ]
    },
    {
     "name": "stdout",
     "output_type": "stream",
     "text": [
      "Epoch 32, train loss: 0.000696, val loss: 0.0001808, TRAIN ACC: 100.000%, VAL ACC: 97.000%\n"
     ]
    },
    {
     "name": "stderr",
     "output_type": "stream",
     "text": [
      "Epoch 33 - train: 100%|██████████| 13/13 [00:01<00:00, 11.56it/s]\n"
     ]
    },
    {
     "name": "stdout",
     "output_type": "stream",
     "text": [
      "Epoch 33, train loss: 0.0003276, val loss: 0.0001658, TRAIN ACC: 100.000%, VAL ACC: 97.000%\n"
     ]
    },
    {
     "name": "stderr",
     "output_type": "stream",
     "text": [
      "Epoch 34 - train: 100%|██████████| 13/13 [00:01<00:00, 11.39it/s]\n"
     ]
    },
    {
     "name": "stdout",
     "output_type": "stream",
     "text": [
      "Epoch 34, train loss: 0.0003712, val loss: 0.0001945, TRAIN ACC: 100.000%, VAL ACC: 97.000%\n"
     ]
    },
    {
     "name": "stderr",
     "output_type": "stream",
     "text": [
      "Epoch 35 - train: 100%|██████████| 13/13 [00:01<00:00, 11.58it/s]\n"
     ]
    },
    {
     "name": "stdout",
     "output_type": "stream",
     "text": [
      "Epoch 35, train loss: 0.0009063, val loss: 0.0001979, TRAIN ACC: 100.000%, VAL ACC: 98.000%\n"
     ]
    },
    {
     "name": "stderr",
     "output_type": "stream",
     "text": [
      "Epoch 36 - train: 100%|██████████| 13/13 [00:01<00:00, 11.62it/s]\n"
     ]
    },
    {
     "name": "stdout",
     "output_type": "stream",
     "text": [
      "Epoch 36, train loss: 0.0004307, val loss: 0.0001941, TRAIN ACC: 100.000%, VAL ACC: 98.000%\n"
     ]
    },
    {
     "name": "stderr",
     "output_type": "stream",
     "text": [
      "Epoch 37 - train: 100%|██████████| 13/13 [00:01<00:00, 10.97it/s]\n"
     ]
    },
    {
     "name": "stdout",
     "output_type": "stream",
     "text": [
      "Epoch 37, train loss: 0.0006719, val loss: 0.0002675, TRAIN ACC: 100.000%, VAL ACC: 98.000%\n"
     ]
    },
    {
     "name": "stderr",
     "output_type": "stream",
     "text": [
      "Epoch 38 - train: 100%|██████████| 13/13 [00:01<00:00, 11.63it/s]\n"
     ]
    },
    {
     "name": "stdout",
     "output_type": "stream",
     "text": [
      "Epoch 38, train loss: 0.0005498, val loss: 0.0002012, TRAIN ACC: 100.000%, VAL ACC: 97.000%\n"
     ]
    },
    {
     "name": "stderr",
     "output_type": "stream",
     "text": [
      "Epoch 39 - train: 100%|██████████| 13/13 [00:01<00:00, 10.57it/s]\n"
     ]
    },
    {
     "name": "stdout",
     "output_type": "stream",
     "text": [
      "Epoch 39, train loss: 0.0005079, val loss: 0.0001704, TRAIN ACC: 100.000%, VAL ACC: 96.000%\n"
     ]
    },
    {
     "name": "stderr",
     "output_type": "stream",
     "text": [
      "Epoch 40 - train: 100%|██████████| 13/13 [00:01<00:00, 11.31it/s]\n"
     ]
    },
    {
     "name": "stdout",
     "output_type": "stream",
     "text": [
      "Epoch 40, train loss: 0.0003231, val loss: 0.0001628, TRAIN ACC: 100.000%, VAL ACC: 96.000%\n"
     ]
    },
    {
     "name": "stderr",
     "output_type": "stream",
     "text": [
      "Epoch 41 - train: 100%|██████████| 13/13 [00:01<00:00, 11.69it/s]\n"
     ]
    },
    {
     "name": "stdout",
     "output_type": "stream",
     "text": [
      "Epoch 41, train loss: 0.0003541, val loss: 0.000157, TRAIN ACC: 100.000%, VAL ACC: 96.000%\n"
     ]
    },
    {
     "name": "stderr",
     "output_type": "stream",
     "text": [
      "Epoch 42 - train: 100%|██████████| 13/13 [00:01<00:00, 11.27it/s]\n"
     ]
    },
    {
     "name": "stdout",
     "output_type": "stream",
     "text": [
      "Epoch 42, train loss: 0.0002888, val loss: 0.0001911, TRAIN ACC: 100.000%, VAL ACC: 97.000%\n"
     ]
    },
    {
     "name": "stderr",
     "output_type": "stream",
     "text": [
      "Epoch 43 - train: 100%|██████████| 13/13 [00:01<00:00, 10.97it/s]\n"
     ]
    },
    {
     "name": "stdout",
     "output_type": "stream",
     "text": [
      "Epoch 43, train loss: 0.0003641, val loss: 0.0001555, TRAIN ACC: 100.000%, VAL ACC: 97.000%\n"
     ]
    },
    {
     "name": "stderr",
     "output_type": "stream",
     "text": [
      "Epoch 44 - train: 100%|██████████| 13/13 [00:01<00:00, 11.12it/s]\n"
     ]
    },
    {
     "name": "stdout",
     "output_type": "stream",
     "text": [
      "Epoch 44, train loss: 0.0006003, val loss: 0.0001628, TRAIN ACC: 100.000%, VAL ACC: 97.000%\n"
     ]
    },
    {
     "name": "stderr",
     "output_type": "stream",
     "text": [
      "Epoch 45 - train: 100%|██████████| 13/13 [00:01<00:00, 10.68it/s]\n"
     ]
    },
    {
     "name": "stdout",
     "output_type": "stream",
     "text": [
      "Epoch 45, train loss: 0.0004075, val loss: 0.0002346, TRAIN ACC: 100.000%, VAL ACC: 97.000%\n"
     ]
    },
    {
     "name": "stderr",
     "output_type": "stream",
     "text": [
      "Epoch 46 - train: 100%|██████████| 13/13 [00:01<00:00, 11.41it/s]\n"
     ]
    },
    {
     "name": "stdout",
     "output_type": "stream",
     "text": [
      "Epoch 46, train loss: 0.0003728, val loss: 0.0002273, TRAIN ACC: 100.000%, VAL ACC: 97.000%\n"
     ]
    },
    {
     "name": "stderr",
     "output_type": "stream",
     "text": [
      "Epoch 47 - train: 100%|██████████| 13/13 [00:01<00:00, 10.53it/s]\n"
     ]
    },
    {
     "name": "stdout",
     "output_type": "stream",
     "text": [
      "Epoch 47, train loss: 0.0003823, val loss: 0.000149, TRAIN ACC: 100.000%, VAL ACC: 96.000%\n"
     ]
    },
    {
     "name": "stderr",
     "output_type": "stream",
     "text": [
      "Epoch 48 - train: 100%|██████████| 13/13 [00:01<00:00, 11.43it/s]\n"
     ]
    },
    {
     "name": "stdout",
     "output_type": "stream",
     "text": [
      "Epoch 48, train loss: 0.0002992, val loss: 0.0001648, TRAIN ACC: 100.000%, VAL ACC: 96.000%\n"
     ]
    },
    {
     "name": "stderr",
     "output_type": "stream",
     "text": [
      "Epoch 49 - train: 100%|██████████| 13/13 [00:01<00:00, 11.31it/s]\n"
     ]
    },
    {
     "name": "stdout",
     "output_type": "stream",
     "text": [
      "Epoch 49, train loss: 0.0002809, val loss: 0.0001699, TRAIN ACC: 100.000%, VAL ACC: 97.000%\n"
     ]
    },
    {
     "name": "stderr",
     "output_type": "stream",
     "text": [
      "Epoch 50 - train: 100%|██████████| 13/13 [00:01<00:00, 11.75it/s]\n"
     ]
    },
    {
     "name": "stdout",
     "output_type": "stream",
     "text": [
      "Epoch 50, train loss: 0.0002029, val loss: 0.0001852, TRAIN ACC: 100.000%, VAL ACC: 98.000%\n"
     ]
    },
    {
     "name": "stderr",
     "output_type": "stream",
     "text": [
      "Epoch 51 - train: 100%|██████████| 13/13 [00:01<00:00, 10.84it/s]\n"
     ]
    },
    {
     "name": "stdout",
     "output_type": "stream",
     "text": [
      "Epoch 51, train loss: 0.0003035, val loss: 0.0001697, TRAIN ACC: 100.000%, VAL ACC: 98.000%\n"
     ]
    },
    {
     "name": "stderr",
     "output_type": "stream",
     "text": [
      "Epoch 52 - train: 100%|██████████| 13/13 [00:01<00:00, 11.30it/s]\n"
     ]
    },
    {
     "name": "stdout",
     "output_type": "stream",
     "text": [
      "Epoch 52, train loss: 0.0004503, val loss: 0.0002139, TRAIN ACC: 100.000%, VAL ACC: 98.000%\n"
     ]
    },
    {
     "name": "stderr",
     "output_type": "stream",
     "text": [
      "Epoch 53 - train: 100%|██████████| 13/13 [00:01<00:00, 11.23it/s]\n"
     ]
    },
    {
     "name": "stdout",
     "output_type": "stream",
     "text": [
      "Epoch 53, train loss: 0.0003618, val loss: 0.0002344, TRAIN ACC: 100.000%, VAL ACC: 98.000%\n"
     ]
    },
    {
     "name": "stderr",
     "output_type": "stream",
     "text": [
      "Epoch 54 - train: 100%|██████████| 13/13 [00:01<00:00, 10.80it/s]\n"
     ]
    },
    {
     "name": "stdout",
     "output_type": "stream",
     "text": [
      "Epoch 54, train loss: 0.0003344, val loss: 0.0001841, TRAIN ACC: 100.000%, VAL ACC: 98.000%\n"
     ]
    },
    {
     "name": "stderr",
     "output_type": "stream",
     "text": [
      "Epoch 55 - train: 100%|██████████| 13/13 [00:01<00:00, 10.65it/s]\n"
     ]
    },
    {
     "name": "stdout",
     "output_type": "stream",
     "text": [
      "Epoch 55, train loss: 0.0004287, val loss: 0.0001652, TRAIN ACC: 100.000%, VAL ACC: 98.000%\n"
     ]
    },
    {
     "name": "stderr",
     "output_type": "stream",
     "text": [
      "Epoch 56 - train: 100%|██████████| 13/13 [00:01<00:00, 11.43it/s]\n"
     ]
    },
    {
     "name": "stdout",
     "output_type": "stream",
     "text": [
      "Epoch 56, train loss: 0.0002685, val loss: 0.0001614, TRAIN ACC: 100.000%, VAL ACC: 98.000%\n"
     ]
    },
    {
     "name": "stderr",
     "output_type": "stream",
     "text": [
      "Epoch 57 - train: 100%|██████████| 13/13 [00:01<00:00, 10.99it/s]\n"
     ]
    },
    {
     "name": "stdout",
     "output_type": "stream",
     "text": [
      "Epoch 57, train loss: 0.0002381, val loss: 0.0001848, TRAIN ACC: 100.000%, VAL ACC: 98.000%\n"
     ]
    },
    {
     "name": "stderr",
     "output_type": "stream",
     "text": [
      "Epoch 58 - train: 100%|██████████| 13/13 [00:01<00:00, 11.29it/s]\n"
     ]
    },
    {
     "name": "stdout",
     "output_type": "stream",
     "text": [
      "Epoch 58, train loss: 0.0002901, val loss: 0.0001846, TRAIN ACC: 100.000%, VAL ACC: 98.000%\n"
     ]
    },
    {
     "name": "stderr",
     "output_type": "stream",
     "text": [
      "Epoch 59 - train: 100%|██████████| 13/13 [00:01<00:00, 11.17it/s]\n"
     ]
    },
    {
     "name": "stdout",
     "output_type": "stream",
     "text": [
      "Epoch 59, train loss: 0.0003749, val loss: 0.0001421, TRAIN ACC: 100.000%, VAL ACC: 98.000%\n"
     ]
    },
    {
     "name": "stderr",
     "output_type": "stream",
     "text": [
      "Epoch 60 - train: 100%|██████████| 13/13 [00:01<00:00, 11.83it/s]\n"
     ]
    },
    {
     "name": "stdout",
     "output_type": "stream",
     "text": [
      "Epoch 60, train loss: 0.0003707, val loss: 0.0001664, TRAIN ACC: 100.000%, VAL ACC: 98.000%\n"
     ]
    },
    {
     "data": {
      "image/png": "[encoded data removed]",
      "text/plain": [
       "<Figure size 640x480 with 1 Axes>"
      ]
     },
     "metadata": {},
     "output_type": "display_data"
    },
    {
     "data": {
      "text/plain": [
       "<Figure size 1000x700 with 0 Axes>"
      ]
     },
     "execution_count": 32,
     "metadata": {},
     "output_type": "execute_result"
    },
    {
     "data": {
      "text/plain": [
       "<Figure size 1000x700 with 0 Axes>"
      ]
     },
     "metadata": {},
     "output_type": "display_data"
    }
   ],
   "source": [
    "losses = []\n",
    "train_losses = []\n",
    "val_losses = []\n",
    "train_accs = []\n",
    "val_accs = []\n",
    "for x in range(num_epochs):\n",
    "    model.train()\n",
    "    running_loss = 0\n",
    "    train_correct = train_total = 0\n",
    "    for X, y in tqdm(train_loader, desc=f\"Epoch {x+1} - train\"):\n",
    "        X, y = X.to(device), y.to(device)\n",
    "        yhat = model(X.permute(0,2,1)) # change tensor shape so sensor data are the channels\n",
    "        _, pred = torch.max(nn.functional.softmax(yhat.data, dim=1), 1)\n",
    "        train_total += y.size(0)\n",
    "        loss = criterion(yhat, y)\n",
    "        running_loss += loss.item()\n",
    "        train_correct += (pred == y).sum().item()\n",
    "        optim.zero_grad()\n",
    "        loss.backward()\n",
    "        optim.step()\n",
    "    losses.append(running_loss / len(train_loader))\n",
    "\n",
    "    model.eval()\n",
    "    with torch.no_grad():\n",
    "        val_correct = val_total = 0\n",
    "        for X, y in val_loader:\n",
    "            X, y = X.to(device), y.to(device)\n",
    "            yhat = model(X.permute(0,2,1))\n",
    "            _, pred = torch.max(nn.functional.softmax(yhat.data, dim=1), 1)\n",
    "            val_total += y.size(0)\n",
    "            val_loss = criterion(yhat, y)\n",
    "            val_correct += (pred == y).sum().item()\n",
    "    train_acc = train_correct / train_total\n",
    "    val_acc = val_correct / val_total\n",
    "    train_accs.append(train_acc)\n",
    "    val_accs.append(val_acc)\n",
    "\n",
    "    train_loss = running_loss / len(train_loader)\n",
    "    train_losses.append(train_loss)\n",
    "    val_losses.append(val_loss.item())\n",
    "    print(f\"Epoch {x+1}, train loss: {train_loss:.4}, val loss: {val_loss.item():.4}, TRAIN ACC: {train_acc:.3%}, VAL ACC: {val_acc:.3%}\")\n",
    "\n",
    "plt.plot(train_accs, label='Training Accuracy')\n",
    "plt.plot(val_accs, label='Validation Accuracy')\n",
    "plt.xlabel('Epoch')\n",
    "plt.ylabel('Accuracy')\n",
    "plt.legend()\n",
    "plt.show()\n",
    "plt.figure(figsize=(10, 7))"
   ]
  },
  {
   "cell_type": "code",
   "execution_count": 33,
   "metadata": {},
   "outputs": [
    {
     "data": {
      "image/png": "[encoded data removed]",
      "text/plain": [
       "<Figure size 640x480 with 2 Axes>"
      ]
     },
     "metadata": {},
     "output_type": "display_data"
    }
   ],
   "source": [
    "confusion = np.zeros((num_classes, num_classes))\n",
    "model.eval()\n",
    "with torch.no_grad():\n",
    "    val_correct = val_total = 0\n",
    "\n",
    "    for X, y in train_loader:\n",
    "        X, y = X.to(device), y.to(device)\n",
    "        yhat = model(X.permute(0,2,1))\n",
    "        _, pred = torch.max(nn.functional.softmax(yhat.data, dim=1), 1)\n",
    "        val_loss = criterion(yhat, y)\n",
    "        confusion += confusion_matrix(y.cpu().numpy(), pred.cpu().numpy(), labels=range(num_classes))\n",
    "\n",
    "    for X, y in val_loader:\n",
    "        X, y = X.to(device), y.to(device)\n",
    "        yhat = model(X.permute(0,2,1))\n",
    "        _, pred = torch.max(nn.functional.softmax(yhat.data, dim=1), 1)\n",
    "        val_loss = criterion(yhat, y)\n",
    "        confusion += confusion_matrix(y.cpu().numpy(), pred.cpu().numpy(), labels=range(num_classes))\n",
    "\n",
    "\n",
    "sns.heatmap(confusion, annot=True, fmt=\".0f\", cmap='Blues')\n",
    "plt.xlabel('Predicted')\n",
    "plt.ylabel('Actual')\n",
    "plt.show()"
   ]
  },
  {
   "cell_type": "code",
   "execution_count": 34,
   "metadata": {},
   "outputs": [],
   "source": [
    "torch.save(model, \"./models/CNN-combined.pth\")"
   ]
  }
 ],
 "metadata": {
  "kernelspec": {
   "display_name": "Python 3",
   "language": "python",
   "name": "python3"
  },
  "language_info": {
   "codemirror_mode": {
    "name": "ipython",
    "version": 3
   },
   "file_extension": ".py",
   "mimetype": "text/x-python",
   "name": "python",
   "nbconvert_exporter": "python",
   "pygments_lexer": "ipython3",
   "version": "3.10.12"
  }
 },
 "nbformat": 4,
 "nbformat_minor": 2
}
