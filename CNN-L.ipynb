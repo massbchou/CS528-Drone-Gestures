{
 "cells": [
  {
   "cell_type": "code",
   "execution_count": 69,
   "metadata": {},
   "outputs": [],
   "source": [
    "import torch\n",
    "import torch.nn as nn\n",
    "from torch.utils.data import DataLoader, ConcatDataset\n",
    "from MotionDataset import MotionData\n",
    "import matplotlib.pyplot as plt\n",
    "from sklearn.metrics import confusion_matrix\n",
    "from tqdm import tqdm\n",
    "import pandas as pd\n",
    "import numpy as np\n",
    "import seaborn as sns"
   ]
  },
  {
   "cell_type": "code",
   "execution_count": 2,
   "metadata": {},
   "outputs": [
    {
     "name": "stdout",
     "output_type": "stream",
     "text": [
      "cuda\n"
     ]
    }
   ],
   "source": [
    "if torch.cuda.is_available():\n",
    "    device = torch.device('cuda')\n",
    "    print(\"cuda\")\n",
    "else:\n",
    "    device = torch.device('cpu')\n",
    "    print(\"CPU\")"
   ]
  },
  {
   "cell_type": "code",
   "execution_count": 41,
   "metadata": {},
   "outputs": [],
   "source": [
    "train_labels = \"./data/labels/train.csv\"\n",
    "val_labels = \"./data/labels/val.csv\"\n",
    "val_dir = train_dir = \"./data/\"\n",
    "\n",
    "train_data = MotionData(train_labels, train_dir)\n",
    "train_loader = DataLoader(train_data, batch_size=32, shuffle=True)\n",
    "\n",
    "val_data = MotionData(val_labels, val_dir)\n",
    "val_loader = DataLoader(val_data, batch_size=32)"
   ]
  },
  {
   "cell_type": "code",
   "execution_count": 74,
   "metadata": {},
   "outputs": [],
   "source": [
    "# model parameters\n",
    "input_size = 6\n",
    "# classifying up:0, down:1, left:2, right:3\n",
    "num_classes = 4\n",
    "num_epochs = 40\n",
    "model = nn.Sequential(\n",
    "        nn.Conv1d(input_size, 64, 3, padding=1),\n",
    "        nn.ReLU(),\n",
    "        nn.MaxPool1d(kernel_size=2),\n",
    "        nn.Conv1d(64, 128, 3, padding=1),\n",
    "        nn.ReLU(),\n",
    "        nn.MaxPool1d(2),\n",
    "        nn.BatchNorm1d(128),\n",
    "        nn.Dropout(p=0.75),\n",
    "        nn.Flatten(start_dim=1),\n",
    "        nn.Linear(16000, 512),\n",
    "        nn.ReLU(),\n",
    "        nn.Linear(512, num_classes)\n",
    ").to(device)\n",
    "\n",
    "criterion = nn.CrossEntropyLoss()\n",
    "optim = torch.optim.SGD(model.parameters(), lr=6e-3, momentum=0.9, weight_decay=0.0003)\n",
    "# optim = torch.optim.Adagrad(model.parameters(), lr=1e-3, weight_decay=0.0001)"
   ]
  },
  {
   "cell_type": "code",
   "execution_count": 75,
   "metadata": {},
   "outputs": [
    {
     "name": "stderr",
     "output_type": "stream",
     "text": [
      "Epoch 1 - train: 100%|██████████| 7/7 [00:00<00:00,  8.80it/s]\n"
     ]
    },
    {
     "name": "stdout",
     "output_type": "stream",
     "text": [
      "Epoch 1, train loss: 1.029, val loss: 1.243, TRAIN ACC: 60.101%, VAL ACC: 62.000%\n"
     ]
    },
    {
     "name": "stderr",
     "output_type": "stream",
     "text": [
      "Epoch 2 - train: 100%|██████████| 7/7 [00:00<00:00,  8.58it/s]\n"
     ]
    },
    {
     "name": "stdout",
     "output_type": "stream",
     "text": [
      "Epoch 2, train loss: 0.3206, val loss: 1.009, TRAIN ACC: 89.899%, VAL ACC: 72.000%\n"
     ]
    },
    {
     "name": "stderr",
     "output_type": "stream",
     "text": [
      "Epoch 3 - train: 100%|██████████| 7/7 [00:00<00:00,  9.00it/s]\n"
     ]
    },
    {
     "name": "stdout",
     "output_type": "stream",
     "text": [
      "Epoch 3, train loss: 0.184, val loss: 0.7529, TRAIN ACC: 92.929%, VAL ACC: 78.000%\n"
     ]
    },
    {
     "name": "stderr",
     "output_type": "stream",
     "text": [
      "Epoch 4 - train: 100%|██████████| 7/7 [00:00<00:00,  9.54it/s]\n"
     ]
    },
    {
     "name": "stdout",
     "output_type": "stream",
     "text": [
      "Epoch 4, train loss: 0.1251, val loss: 0.5895, TRAIN ACC: 95.960%, VAL ACC: 80.000%\n"
     ]
    },
    {
     "name": "stderr",
     "output_type": "stream",
     "text": [
      "Epoch 5 - train: 100%|██████████| 7/7 [00:00<00:00, 10.80it/s]\n"
     ]
    },
    {
     "name": "stdout",
     "output_type": "stream",
     "text": [
      "Epoch 5, train loss: 0.05668, val loss: 0.3684, TRAIN ACC: 98.485%, VAL ACC: 92.000%\n"
     ]
    },
    {
     "name": "stderr",
     "output_type": "stream",
     "text": [
      "Epoch 6 - train: 100%|██████████| 7/7 [00:00<00:00, 11.99it/s]\n"
     ]
    },
    {
     "name": "stdout",
     "output_type": "stream",
     "text": [
      "Epoch 6, train loss: 0.02293, val loss: 0.5049, TRAIN ACC: 99.495%, VAL ACC: 90.000%\n"
     ]
    },
    {
     "name": "stderr",
     "output_type": "stream",
     "text": [
      "Epoch 7 - train: 100%|██████████| 7/7 [00:00<00:00, 12.28it/s]\n"
     ]
    },
    {
     "name": "stdout",
     "output_type": "stream",
     "text": [
      "Epoch 7, train loss: 0.02389, val loss: 0.5908, TRAIN ACC: 99.495%, VAL ACC: 88.000%\n"
     ]
    },
    {
     "name": "stderr",
     "output_type": "stream",
     "text": [
      "Epoch 8 - train: 100%|██████████| 7/7 [00:00<00:00, 12.48it/s]\n"
     ]
    },
    {
     "name": "stdout",
     "output_type": "stream",
     "text": [
      "Epoch 8, train loss: 0.01734, val loss: 0.3359, TRAIN ACC: 100.000%, VAL ACC: 94.000%\n"
     ]
    },
    {
     "name": "stderr",
     "output_type": "stream",
     "text": [
      "Epoch 9 - train: 100%|██████████| 7/7 [00:00<00:00, 12.24it/s]\n"
     ]
    },
    {
     "name": "stdout",
     "output_type": "stream",
     "text": [
      "Epoch 9, train loss: 0.008762, val loss: 0.1913, TRAIN ACC: 100.000%, VAL ACC: 96.000%\n"
     ]
    },
    {
     "name": "stderr",
     "output_type": "stream",
     "text": [
      "Epoch 10 - train: 100%|██████████| 7/7 [00:00<00:00, 11.93it/s]\n"
     ]
    },
    {
     "name": "stdout",
     "output_type": "stream",
     "text": [
      "Epoch 10, train loss: 0.004796, val loss: 0.1527, TRAIN ACC: 100.000%, VAL ACC: 96.000%\n"
     ]
    },
    {
     "name": "stderr",
     "output_type": "stream",
     "text": [
      "Epoch 11 - train: 100%|██████████| 7/7 [00:00<00:00, 10.08it/s]\n"
     ]
    },
    {
     "name": "stdout",
     "output_type": "stream",
     "text": [
      "Epoch 11, train loss: 0.00205, val loss: 0.1046, TRAIN ACC: 100.000%, VAL ACC: 98.000%\n"
     ]
    },
    {
     "name": "stderr",
     "output_type": "stream",
     "text": [
      "Epoch 12 - train: 100%|██████████| 7/7 [00:00<00:00, 12.46it/s]\n"
     ]
    },
    {
     "name": "stdout",
     "output_type": "stream",
     "text": [
      "Epoch 12, train loss: 0.008068, val loss: 0.1032, TRAIN ACC: 100.000%, VAL ACC: 98.000%\n"
     ]
    },
    {
     "name": "stderr",
     "output_type": "stream",
     "text": [
      "Epoch 13 - train: 100%|██████████| 7/7 [00:00<00:00, 12.17it/s]\n"
     ]
    },
    {
     "name": "stdout",
     "output_type": "stream",
     "text": [
      "Epoch 13, train loss: 0.004802, val loss: 0.1613, TRAIN ACC: 100.000%, VAL ACC: 96.000%\n"
     ]
    },
    {
     "name": "stderr",
     "output_type": "stream",
     "text": [
      "Epoch 14 - train: 100%|██████████| 7/7 [00:00<00:00, 11.94it/s]\n"
     ]
    },
    {
     "name": "stdout",
     "output_type": "stream",
     "text": [
      "Epoch 14, train loss: 0.002708, val loss: 0.1295, TRAIN ACC: 100.000%, VAL ACC: 96.000%\n"
     ]
    },
    {
     "name": "stderr",
     "output_type": "stream",
     "text": [
      "Epoch 15 - train: 100%|██████████| 7/7 [00:00<00:00, 12.34it/s]\n"
     ]
    },
    {
     "name": "stdout",
     "output_type": "stream",
     "text": [
      "Epoch 15, train loss: 0.002485, val loss: 0.09117, TRAIN ACC: 100.000%, VAL ACC: 96.000%\n"
     ]
    },
    {
     "name": "stderr",
     "output_type": "stream",
     "text": [
      "Epoch 16 - train: 100%|██████████| 7/7 [00:00<00:00, 12.08it/s]\n"
     ]
    },
    {
     "name": "stdout",
     "output_type": "stream",
     "text": [
      "Epoch 16, train loss: 0.001699, val loss: 0.07942, TRAIN ACC: 100.000%, VAL ACC: 98.000%\n"
     ]
    },
    {
     "name": "stderr",
     "output_type": "stream",
     "text": [
      "Epoch 17 - train: 100%|██████████| 7/7 [00:00<00:00, 12.17it/s]\n"
     ]
    },
    {
     "name": "stdout",
     "output_type": "stream",
     "text": [
      "Epoch 17, train loss: 0.001036, val loss: 0.08396, TRAIN ACC: 100.000%, VAL ACC: 98.000%\n"
     ]
    },
    {
     "name": "stderr",
     "output_type": "stream",
     "text": [
      "Epoch 18 - train: 100%|██████████| 7/7 [00:00<00:00, 11.88it/s]\n"
     ]
    },
    {
     "name": "stdout",
     "output_type": "stream",
     "text": [
      "Epoch 18, train loss: 0.002053, val loss: 0.07897, TRAIN ACC: 100.000%, VAL ACC: 98.000%\n"
     ]
    },
    {
     "name": "stderr",
     "output_type": "stream",
     "text": [
      "Epoch 19 - train: 100%|██████████| 7/7 [00:00<00:00, 10.90it/s]\n"
     ]
    },
    {
     "name": "stdout",
     "output_type": "stream",
     "text": [
      "Epoch 19, train loss: 0.001407, val loss: 0.08596, TRAIN ACC: 100.000%, VAL ACC: 98.000%\n"
     ]
    },
    {
     "name": "stderr",
     "output_type": "stream",
     "text": [
      "Epoch 20 - train: 100%|██████████| 7/7 [00:00<00:00, 10.98it/s]\n"
     ]
    },
    {
     "name": "stdout",
     "output_type": "stream",
     "text": [
      "Epoch 20, train loss: 0.005565, val loss: 0.08626, TRAIN ACC: 99.495%, VAL ACC: 98.000%\n"
     ]
    },
    {
     "name": "stderr",
     "output_type": "stream",
     "text": [
      "Epoch 21 - train: 100%|██████████| 7/7 [00:00<00:00, 10.82it/s]\n"
     ]
    },
    {
     "name": "stdout",
     "output_type": "stream",
     "text": [
      "Epoch 21, train loss: 0.003437, val loss: 0.1053, TRAIN ACC: 100.000%, VAL ACC: 98.000%\n"
     ]
    },
    {
     "name": "stderr",
     "output_type": "stream",
     "text": [
      "Epoch 22 - train: 100%|██████████| 7/7 [00:00<00:00,  8.00it/s]\n"
     ]
    },
    {
     "name": "stdout",
     "output_type": "stream",
     "text": [
      "Epoch 22, train loss: 0.001174, val loss: 0.1544, TRAIN ACC: 100.000%, VAL ACC: 98.000%\n"
     ]
    },
    {
     "name": "stderr",
     "output_type": "stream",
     "text": [
      "Epoch 23 - train: 100%|██████████| 7/7 [00:00<00:00, 10.01it/s]\n"
     ]
    },
    {
     "name": "stdout",
     "output_type": "stream",
     "text": [
      "Epoch 23, train loss: 0.001278, val loss: 0.1893, TRAIN ACC: 100.000%, VAL ACC: 96.000%\n"
     ]
    },
    {
     "name": "stderr",
     "output_type": "stream",
     "text": [
      "Epoch 24 - train: 100%|██████████| 7/7 [00:00<00:00, 11.72it/s]\n"
     ]
    },
    {
     "name": "stdout",
     "output_type": "stream",
     "text": [
      "Epoch 24, train loss: 0.0007177, val loss: 0.1623, TRAIN ACC: 100.000%, VAL ACC: 98.000%\n"
     ]
    },
    {
     "name": "stderr",
     "output_type": "stream",
     "text": [
      "Epoch 25 - train: 100%|██████████| 7/7 [00:00<00:00,  9.03it/s]\n"
     ]
    },
    {
     "name": "stdout",
     "output_type": "stream",
     "text": [
      "Epoch 25, train loss: 0.001413, val loss: 0.1394, TRAIN ACC: 100.000%, VAL ACC: 98.000%\n"
     ]
    },
    {
     "name": "stderr",
     "output_type": "stream",
     "text": [
      "Epoch 26 - train: 100%|██████████| 7/7 [00:00<00:00, 10.58it/s]\n"
     ]
    },
    {
     "name": "stdout",
     "output_type": "stream",
     "text": [
      "Epoch 26, train loss: 0.0008758, val loss: 0.1335, TRAIN ACC: 100.000%, VAL ACC: 98.000%\n"
     ]
    },
    {
     "name": "stderr",
     "output_type": "stream",
     "text": [
      "Epoch 27 - train: 100%|██████████| 7/7 [00:00<00:00,  8.51it/s]\n"
     ]
    },
    {
     "name": "stdout",
     "output_type": "stream",
     "text": [
      "Epoch 27, train loss: 0.0007928, val loss: 0.1278, TRAIN ACC: 100.000%, VAL ACC: 98.000%\n"
     ]
    },
    {
     "name": "stderr",
     "output_type": "stream",
     "text": [
      "Epoch 28 - train: 100%|██████████| 7/7 [00:00<00:00, 11.17it/s]\n"
     ]
    },
    {
     "name": "stdout",
     "output_type": "stream",
     "text": [
      "Epoch 28, train loss: 0.0005272, val loss: 0.137, TRAIN ACC: 100.000%, VAL ACC: 98.000%\n"
     ]
    },
    {
     "name": "stderr",
     "output_type": "stream",
     "text": [
      "Epoch 29 - train: 100%|██████████| 7/7 [00:00<00:00, 11.62it/s]\n"
     ]
    },
    {
     "name": "stdout",
     "output_type": "stream",
     "text": [
      "Epoch 29, train loss: 0.000523, val loss: 0.1368, TRAIN ACC: 100.000%, VAL ACC: 98.000%\n"
     ]
    },
    {
     "name": "stderr",
     "output_type": "stream",
     "text": [
      "Epoch 30 - train: 100%|██████████| 7/7 [00:00<00:00, 12.43it/s]\n"
     ]
    },
    {
     "name": "stdout",
     "output_type": "stream",
     "text": [
      "Epoch 30, train loss: 0.0007036, val loss: 0.1288, TRAIN ACC: 100.000%, VAL ACC: 98.000%\n"
     ]
    },
    {
     "name": "stderr",
     "output_type": "stream",
     "text": [
      "Epoch 31 - train: 100%|██████████| 7/7 [00:00<00:00, 10.07it/s]\n"
     ]
    },
    {
     "name": "stdout",
     "output_type": "stream",
     "text": [
      "Epoch 31, train loss: 0.0007981, val loss: 0.1312, TRAIN ACC: 100.000%, VAL ACC: 98.000%\n"
     ]
    },
    {
     "name": "stderr",
     "output_type": "stream",
     "text": [
      "Epoch 32 - train: 100%|██████████| 7/7 [00:00<00:00, 11.58it/s]\n"
     ]
    },
    {
     "name": "stdout",
     "output_type": "stream",
     "text": [
      "Epoch 32, train loss: 0.0006726, val loss: 0.1157, TRAIN ACC: 100.000%, VAL ACC: 98.000%\n"
     ]
    },
    {
     "name": "stderr",
     "output_type": "stream",
     "text": [
      "Epoch 33 - train: 100%|██████████| 7/7 [00:00<00:00,  8.68it/s]\n"
     ]
    },
    {
     "name": "stdout",
     "output_type": "stream",
     "text": [
      "Epoch 33, train loss: 0.0005265, val loss: 0.1046, TRAIN ACC: 100.000%, VAL ACC: 98.000%\n"
     ]
    },
    {
     "name": "stderr",
     "output_type": "stream",
     "text": [
      "Epoch 34 - train: 100%|██████████| 7/7 [00:00<00:00, 10.73it/s]\n"
     ]
    },
    {
     "name": "stdout",
     "output_type": "stream",
     "text": [
      "Epoch 34, train loss: 0.000929, val loss: 0.1104, TRAIN ACC: 100.000%, VAL ACC: 98.000%\n"
     ]
    },
    {
     "name": "stderr",
     "output_type": "stream",
     "text": [
      "Epoch 35 - train: 100%|██████████| 7/7 [00:00<00:00,  8.99it/s]\n"
     ]
    },
    {
     "name": "stdout",
     "output_type": "stream",
     "text": [
      "Epoch 35, train loss: 0.0006401, val loss: 0.1138, TRAIN ACC: 100.000%, VAL ACC: 98.000%\n"
     ]
    },
    {
     "name": "stderr",
     "output_type": "stream",
     "text": [
      "Epoch 36 - train: 100%|██████████| 7/7 [00:00<00:00, 11.74it/s]\n"
     ]
    },
    {
     "name": "stdout",
     "output_type": "stream",
     "text": [
      "Epoch 36, train loss: 0.0007565, val loss: 0.1349, TRAIN ACC: 100.000%, VAL ACC: 98.000%\n"
     ]
    },
    {
     "name": "stderr",
     "output_type": "stream",
     "text": [
      "Epoch 37 - train: 100%|██████████| 7/7 [00:00<00:00, 11.28it/s]\n"
     ]
    },
    {
     "name": "stdout",
     "output_type": "stream",
     "text": [
      "Epoch 37, train loss: 0.0004239, val loss: 0.1555, TRAIN ACC: 100.000%, VAL ACC: 98.000%\n"
     ]
    },
    {
     "name": "stderr",
     "output_type": "stream",
     "text": [
      "Epoch 38 - train: 100%|██████████| 7/7 [00:00<00:00, 11.64it/s]\n"
     ]
    },
    {
     "name": "stdout",
     "output_type": "stream",
     "text": [
      "Epoch 38, train loss: 0.0003327, val loss: 0.1397, TRAIN ACC: 100.000%, VAL ACC: 98.000%\n"
     ]
    },
    {
     "name": "stderr",
     "output_type": "stream",
     "text": [
      "Epoch 39 - train: 100%|██████████| 7/7 [00:00<00:00, 10.40it/s]\n"
     ]
    },
    {
     "name": "stdout",
     "output_type": "stream",
     "text": [
      "Epoch 39, train loss: 0.0004337, val loss: 0.1424, TRAIN ACC: 100.000%, VAL ACC: 98.000%\n"
     ]
    },
    {
     "name": "stderr",
     "output_type": "stream",
     "text": [
      "Epoch 40 - train: 100%|██████████| 7/7 [00:00<00:00,  9.63it/s]\n"
     ]
    },
    {
     "name": "stdout",
     "output_type": "stream",
     "text": [
      "Epoch 40, train loss: 0.0005124, val loss: 0.1339, TRAIN ACC: 100.000%, VAL ACC: 98.000%\n"
     ]
    },
    {
     "data": {
      "image/png": "[encoded data removed]",
      "text/plain": [
       "<Figure size 640x480 with 1 Axes>"
      ]
     },
     "metadata": {},
     "output_type": "display_data"
    },
    {
     "data": {
      "image/png": "[encoded data removed]",
      "text/plain": [
       "<Figure size 1000x700 with 2 Axes>"
      ]
     },
     "metadata": {},
     "output_type": "display_data"
    }
   ],
   "source": [
    "losses = []\n",
    "train_losses = []\n",
    "val_losses = []\n",
    "train_accs = []\n",
    "val_accs = []\n",
    "for x in range(num_epochs):\n",
    "    model.train()\n",
    "    running_loss = 0\n",
    "    train_correct = train_total = 0\n",
    "    for X, y in tqdm(train_loader, desc=f\"Epoch {x+1} - train\"):\n",
    "        X, y = X.to(device), y.to(device)\n",
    "        yhat = model(X.permute(0,2,1)) # change tensor shape so sensor data are the channels\n",
    "        _, pred = torch.max(nn.functional.softmax(yhat.data, dim=1), 1)\n",
    "        train_total += y.size(0)\n",
    "        loss = criterion(yhat, y)\n",
    "        running_loss += loss.item()\n",
    "        train_correct += (pred == y).sum().item()\n",
    "        optim.zero_grad()\n",
    "        loss.backward()\n",
    "        optim.step()\n",
    "    losses.append(running_loss / len(train_loader))\n",
    "\n",
    "    model.eval()\n",
    "    with torch.no_grad():\n",
    "        val_correct = val_total = 0\n",
    "        for X, y in val_loader:\n",
    "            X, y = X.to(device), y.to(device)\n",
    "            yhat = model(X.permute(0,2,1))\n",
    "            _, pred = torch.max(nn.functional.softmax(yhat.data, dim=1), 1)\n",
    "            val_total += y.size(0)\n",
    "            val_loss = criterion(yhat, y)\n",
    "            val_correct += (pred == y).sum().item()\n",
    "            # confusion += confusion_matrix(y.cpu().numpy(), pred.cpu().numpy(), labels=range(num_classes))\n",
    "    train_acc = train_correct / train_total\n",
    "    val_acc = val_correct / val_total\n",
    "    train_accs.append(train_acc)\n",
    "    val_accs.append(val_acc)\n",
    "\n",
    "    train_loss = running_loss / len(train_loader)\n",
    "    train_losses.append(train_loss)\n",
    "    val_losses.append(val_loss.item())\n",
    "    print(f\"Epoch {x+1}, train loss: {train_loss:.4}, val loss: {val_loss.item():.4}, TRAIN ACC: {train_acc:.3%}, VAL ACC: {val_acc:.3%}\")\n",
    "\n",
    "plt.plot(train_accs, label='Training Accuracy')\n",
    "plt.plot(val_accs, label='Validation Accuracy')\n",
    "plt.xlabel('Epoch')\n",
    "plt.ylabel('Accuracy')\n",
    "plt.legend()\n",
    "plt.show()\n",
    "plt.figure(figsize=(10, 7))\n",
    "\n",
    "confusion = np.zeros((num_classes, num_classes))\n",
    "model.eval()\n",
    "with torch.no_grad():\n",
    "    val_correct = val_total = 0\n",
    "\n",
    "    for X, y in train_loader:\n",
    "        X, y = X.to(device), y.to(device)\n",
    "        yhat = model(X.permute(0,2,1))\n",
    "        _, pred = torch.max(nn.functional.softmax(yhat.data, dim=1), 1)\n",
    "        val_loss = criterion(yhat, y)\n",
    "        confusion += confusion_matrix(y.cpu().numpy(), pred.cpu().numpy(), labels=range(num_classes))\n",
    "\n",
    "    for X, y in val_loader:\n",
    "        X, y = X.to(device), y.to(device)\n",
    "        yhat = model(X.permute(0,2,1))\n",
    "        _, pred = torch.max(nn.functional.softmax(yhat.data, dim=1), 1)\n",
    "        val_loss = criterion(yhat, y)\n",
    "        confusion += confusion_matrix(y.cpu().numpy(), pred.cpu().numpy(), labels=range(num_classes))\n",
    "\n",
    "\n",
    "sns.heatmap(confusion, annot=True, fmt=\".0f\", cmap='Blues')\n",
    "plt.xlabel('Predicted')\n",
    "plt.ylabel('Actual')\n",
    "plt.show()"
   ]
  },
  {
   "cell_type": "code",
   "execution_count": 76,
   "metadata": {},
   "outputs": [],
   "source": [
    "best_model = model"
   ]
  },
  {
   "cell_type": "code",
   "execution_count": 56,
   "metadata": {},
   "outputs": [
    {
     "name": "stdout",
     "output_type": "stream",
     "text": [
      "model size: 31.359MB\n"
     ]
    }
   ],
   "source": [
    "param_size = 0\n",
    "for param in model.parameters():\n",
    "    param_size += param.nelement() * param.element_size()\n",
    "buffer_size = 0\n",
    "for buffer in model.buffers():\n",
    "    buffer_size += buffer.nelement() * buffer.element_size()\n",
    "\n",
    "size_all_mb = (param_size + buffer_size) / 1024**2\n",
    "print('model size: {:.3f}MB'.format(size_all_mb))"
   ]
  },
  {
   "cell_type": "code",
   "execution_count": 62,
   "metadata": {},
   "outputs": [],
   "source": [
    "torch.save(model, \"models/CNN-L.pth\")"
   ]
  },
  {
   "cell_type": "code",
   "execution_count": 22,
   "metadata": {},
   "outputs": [
    {
     "data": {
      "text/plain": [
       "Sequential(\n",
       "  (0): Conv1d(6, 32, kernel_size=(3,), stride=(1,))\n",
       "  (1): ReLU()\n",
       "  (2): MaxPool1d(kernel_size=2, stride=2, padding=0, dilation=1, ceil_mode=False)\n",
       "  (3): Dropout(p=0.4, inplace=False)\n",
       "  (4): Flatten(start_dim=1, end_dim=-1)\n",
       "  (5): Linear(in_features=7968, out_features=4, bias=True)\n",
       ")"
      ]
     },
     "execution_count": 22,
     "metadata": {},
     "output_type": "execute_result"
    }
   ],
   "source": [
    "model = torch.load(\"models/CNN.pth\", map_location=\"cpu\")\n",
    "# model.to(device)\n",
    "model.eval()"
   ]
  },
  {
   "cell_type": "code",
   "execution_count": null,
   "metadata": {},
   "outputs": [],
   "source": [
    "import random as rand\n",
    "\n",
    "labels = [\"up\", \"down\", \"left\", \"right\"]\n",
    "num = rand.randint(0, 61)\n",
    "true_label = rand.choice(labels)\n",
    "\n",
    "df = pd.read_csv(f\"data/{true_label}_{num:02d}.csv\")\n",
    "data = df[['acce_x', 'acce_y', 'acce_z', 'gyro_x', 'gyro_y', 'gyro_z']].values.astype(np.float32)\n",
    "min_val = np.min(data, axis=0)\n",
    "max_val = np.max(data, axis=0)\n",
    "data = (data - min_val) / (max_val - min_val)\n",
    "data = torch.from_numpy(data)\n",
    "data.to(device)\n",
    "# data.shape\n",
    "with torch.no_grad():\n",
    "    yhat = model(data.permute(1,0).unsqueeze(0))\n",
    "    pred = torch.max(yhat, 1)\n",
    "    # print(pred.indices[0].item())\n",
    "    match pred.indices[0].item():\n",
    "        case 0:\n",
    "            print(\"Predict: up\")\n",
    "        case 1:\n",
    "            print(\"Predict: down\")\n",
    "        case 2:\n",
    "            print(\"Predict: left\")\n",
    "        case 3:\n",
    "            print(\"Predict: right\")\n",
    "    print(f\"Actual: {true_label}_{num:02d}\")"
   ]
  },
  {
   "cell_type": "code",
   "execution_count": 29,
   "metadata": {},
   "outputs": [
    {
     "name": "stdout",
     "output_type": "stream",
     "text": [
      "1\n",
      "tensor([[-0.8101, -0.4525, -1.5963, -2.5577]])\n",
      "tensor([-0.4525]) tensor([1])\n",
      "1\n"
     ]
    }
   ],
   "source": [
    "X, y = train_data[183]\n",
    "print(y)\n",
    "X = torch.tensor(X)\n",
    "\n",
    "model.eval()\n",
    "\n",
    "with torch.no_grad():\n",
    "    yhat = model(X.permute(1,0).unsqueeze(0).to(\"cpu\"))\n",
    "\n",
    "y, predicted = torch.max(yhat.data, 1)\n",
    "predicted_class = predicted.item()\n",
    "print(yhat)\n",
    "print(y, predicted)\n",
    "print(predicted_class)"
   ]
  },
  {
   "cell_type": "code",
   "execution_count": 78,
   "metadata": {},
   "outputs": [
    {
     "name": "stdout",
     "output_type": "stream",
     "text": [
      "val loss: 0.1339, val acc: 98.000%\n"
     ]
    }
   ],
   "source": [
    "criterion = nn.CrossEntropyLoss()\n",
    "with torch.no_grad():\n",
    "    val_correct = val_total = 0\n",
    "    for X, y in val_loader:\n",
    "        X, y = X.to(device), y.to(device)\n",
    "        yhat = best_model(X.permute(0,2,1))\n",
    "        _, pred = torch.max(nn.functional.softmax(yhat.data, dim=1), 1)\n",
    "        val_total += y.size(0)\n",
    "        val_loss = criterion(yhat, y)\n",
    "        val_correct += (pred == y).sum().item()\n",
    "val_acc = val_correct / val_total\n",
    "print(f\"val loss: {val_loss.item():.4}, val acc: {val_acc:.3%}\")"
   ]
  },
  {
   "cell_type": "code",
   "execution_count": 77,
   "metadata": {},
   "outputs": [],
   "source": [
    "torch.save(best_model, \"models/CNN-XL.pth\")"
   ]
  }
 ],
 "metadata": {
  "kernelspec": {
   "display_name": "Python 3",
   "language": "python",
   "name": "python3"
  },
  "language_info": {
   "codemirror_mode": {
    "name": "ipython",
    "version": 3
   },
   "file_extension": ".py",
   "mimetype": "text/x-python",
   "name": "python",
   "nbconvert_exporter": "python",
   "pygments_lexer": "ipython3",
   "version": "3.10.12"
  }
 },
 "nbformat": 4,
 "nbformat_minor": 2
}
